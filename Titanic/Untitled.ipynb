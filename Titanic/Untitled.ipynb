{
 "cells": [
  {
   "cell_type": "markdown",
   "id": "c9b6d999-edb7-41e4-81e5-3f5e6720124f",
   "metadata": {
    "jp-MarkdownHeadingCollapsed": true
   },
   "source": [
    "## Importing libraries"
   ]
  },
  {
   "cell_type": "code",
   "execution_count": 60,
   "id": "f142d484-cc43-4d01-a378-f59abf9c9b46",
   "metadata": {},
   "outputs": [],
   "source": [
    "import numpy as np\n",
    "import pandas as pd\n",
    "import seaborn as sns\n",
    "from sklearn.preprocessing import StandardScaler, OneHotEncoder, LabelEncoder\n",
    "from sklearn.impute import SimpleImputer\n",
    "from sklearn.compose import ColumnTransformer\n",
    "np.set_printoptions(threshold = np.inf)"
   ]
  },
  {
   "cell_type": "markdown",
   "id": "a6603f0e-cb18-40d9-8709-94dc7ece08ec",
   "metadata": {},
   "source": [
    "## Read data set"
   ]
  },
  {
   "cell_type": "code",
   "execution_count": 73,
   "id": "e7ea9436-6339-4901-be4c-441c5e43aa9b",
   "metadata": {},
   "outputs": [],
   "source": [
    "dataSet=pd.read_csv('train.csv')\n",
    "dataSetTest=pd.read_csv('test.csv')\n",
    "X_test=dataSetTest[['Pclass','Sex','Age','SibSp','Parch','Fare']].values\n",
    "X=dataSet[['Pclass','Sex','Age','SibSp','Parch','Fare']].values\n",
    "y=dataSet['Survived'].values\n"
   ]
  },
  {
   "cell_type": "markdown",
   "id": "cce43249-533d-4306-bbf4-da837b70be72",
   "metadata": {},
   "source": [
    "## Taking care of missing values"
   ]
  },
  {
   "cell_type": "code",
   "execution_count": 75,
   "id": "c0a1f1f8-5b51-4694-8081-80f4b44ba4ec",
   "metadata": {
    "scrolled": true
   },
   "outputs": [
    {
     "name": "stdout",
     "output_type": "stream",
     "text": [
      "PassengerId      0\n",
      "Survived         0\n",
      "Pclass           0\n",
      "Name             0\n",
      "Sex              0\n",
      "Age            177\n",
      "SibSp            0\n",
      "Parch            0\n",
      "Ticket           0\n",
      "Fare             0\n",
      "Cabin          687\n",
      "Embarked         2\n",
      "dtype: int64\n"
     ]
    }
   ],
   "source": [
    "print(dataSet.isnull().sum())"
   ]
  },
  {
   "cell_type": "code",
   "execution_count": 83,
   "id": "a09f34bf-b90f-4213-a845-7e63862e24e1",
   "metadata": {},
   "outputs": [
    {
     "name": "stdout",
     "output_type": "stream",
     "text": [
      "Initial    891\n",
      "dtype: int64\n"
     ]
    }
   ],
   "source": [
    "for i in dataSet:\n",
    "    Initial=dataSet.Name.str.extract('([A-Za-z]+\\.)')\n",
    "Initial=np.array(Initial)\n",
    "initialDataFrame=pd.DataFrame(Initial,columns=['Initial'])\n",
    "initialDataFrame\n",
    "print(initialDataFrame.count())"
   ]
  },
  {
   "cell_type": "code",
   "execution_count": 64,
   "id": "a86f71ad-8b5a-4301-8211-193866ace078",
   "metadata": {},
   "outputs": [
    {
     "data": {
      "text/html": [
       "<style>#sk-container-id-6 {color: black;}#sk-container-id-6 pre{padding: 0;}#sk-container-id-6 div.sk-toggleable {background-color: white;}#sk-container-id-6 label.sk-toggleable__label {cursor: pointer;display: block;width: 100%;margin-bottom: 0;padding: 0.3em;box-sizing: border-box;text-align: center;}#sk-container-id-6 label.sk-toggleable__label-arrow:before {content: \"▸\";float: left;margin-right: 0.25em;color: #696969;}#sk-container-id-6 label.sk-toggleable__label-arrow:hover:before {color: black;}#sk-container-id-6 div.sk-estimator:hover label.sk-toggleable__label-arrow:before {color: black;}#sk-container-id-6 div.sk-toggleable__content {max-height: 0;max-width: 0;overflow: hidden;text-align: left;background-color: #f0f8ff;}#sk-container-id-6 div.sk-toggleable__content pre {margin: 0.2em;color: black;border-radius: 0.25em;background-color: #f0f8ff;}#sk-container-id-6 input.sk-toggleable__control:checked~div.sk-toggleable__content {max-height: 200px;max-width: 100%;overflow: auto;}#sk-container-id-6 input.sk-toggleable__control:checked~label.sk-toggleable__label-arrow:before {content: \"▾\";}#sk-container-id-6 div.sk-estimator input.sk-toggleable__control:checked~label.sk-toggleable__label {background-color: #d4ebff;}#sk-container-id-6 div.sk-label input.sk-toggleable__control:checked~label.sk-toggleable__label {background-color: #d4ebff;}#sk-container-id-6 input.sk-hidden--visually {border: 0;clip: rect(1px 1px 1px 1px);clip: rect(1px, 1px, 1px, 1px);height: 1px;margin: -1px;overflow: hidden;padding: 0;position: absolute;width: 1px;}#sk-container-id-6 div.sk-estimator {font-family: monospace;background-color: #f0f8ff;border: 1px dotted black;border-radius: 0.25em;box-sizing: border-box;margin-bottom: 0.5em;}#sk-container-id-6 div.sk-estimator:hover {background-color: #d4ebff;}#sk-container-id-6 div.sk-parallel-item::after {content: \"\";width: 100%;border-bottom: 1px solid gray;flex-grow: 1;}#sk-container-id-6 div.sk-label:hover label.sk-toggleable__label {background-color: #d4ebff;}#sk-container-id-6 div.sk-serial::before {content: \"\";position: absolute;border-left: 1px solid gray;box-sizing: border-box;top: 0;bottom: 0;left: 50%;z-index: 0;}#sk-container-id-6 div.sk-serial {display: flex;flex-direction: column;align-items: center;background-color: white;padding-right: 0.2em;padding-left: 0.2em;position: relative;}#sk-container-id-6 div.sk-item {position: relative;z-index: 1;}#sk-container-id-6 div.sk-parallel {display: flex;align-items: stretch;justify-content: center;background-color: white;position: relative;}#sk-container-id-6 div.sk-item::before, #sk-container-id-6 div.sk-parallel-item::before {content: \"\";position: absolute;border-left: 1px solid gray;box-sizing: border-box;top: 0;bottom: 0;left: 50%;z-index: -1;}#sk-container-id-6 div.sk-parallel-item {display: flex;flex-direction: column;z-index: 1;position: relative;background-color: white;}#sk-container-id-6 div.sk-parallel-item:first-child::after {align-self: flex-end;width: 50%;}#sk-container-id-6 div.sk-parallel-item:last-child::after {align-self: flex-start;width: 50%;}#sk-container-id-6 div.sk-parallel-item:only-child::after {width: 0;}#sk-container-id-6 div.sk-dashed-wrapped {border: 1px dashed gray;margin: 0 0.4em 0.5em 0.4em;box-sizing: border-box;padding-bottom: 0.4em;background-color: white;}#sk-container-id-6 div.sk-label label {font-family: monospace;font-weight: bold;display: inline-block;line-height: 1.2em;}#sk-container-id-6 div.sk-label-container {text-align: center;}#sk-container-id-6 div.sk-container {/* jupyter's `normalize.less` sets `[hidden] { display: none; }` but bootstrap.min.css set `[hidden] { display: none !important; }` so we also need the `!important` here to be able to override the default hidden behavior on the sphinx rendered scikit-learn.org. See: https://github.com/scikit-learn/scikit-learn/issues/21755 */display: inline-block !important;position: relative;}#sk-container-id-6 div.sk-text-repr-fallback {display: none;}</style><div id=\"sk-container-id-6\" class=\"sk-top-container\"><div class=\"sk-text-repr-fallback\"><pre>SimpleImputer()</pre><b>In a Jupyter environment, please rerun this cell to show the HTML representation or trust the notebook. <br />On GitHub, the HTML representation is unable to render, please try loading this page with nbviewer.org.</b></div><div class=\"sk-container\" hidden><div class=\"sk-item\"><div class=\"sk-estimator sk-toggleable\"><input class=\"sk-toggleable__control sk-hidden--visually\" id=\"sk-estimator-id-6\" type=\"checkbox\" checked><label for=\"sk-estimator-id-6\" class=\"sk-toggleable__label sk-toggleable__label-arrow\">SimpleImputer</label><div class=\"sk-toggleable__content\"><pre>SimpleImputer()</pre></div></div></div></div></div>"
      ],
      "text/plain": [
       "SimpleImputer()"
      ]
     },
     "execution_count": 64,
     "metadata": {},
     "output_type": "execute_result"
    }
   ],
   "source": [
    "imputer=SimpleImputer(missing_values=np.nan,strategy='mean')\n",
    "#this is for embarked\n",
    "#imputerlast=SimpleImputer(missing_values=np.nan,strategy='most_frequent')\n",
    "#imputerlast.fit(X[:,-1].reshape(-1,1))\n",
    "imputer.fit(X[:,2:5])"
   ]
  },
  {
   "cell_type": "code",
   "execution_count": 65,
   "id": "2364c0b3-2b7c-4210-817f-7b5cb52f9bb6",
   "metadata": {},
   "outputs": [],
   "source": [
    "#X[:,-1]=imputerlast.transform(X[:,-1].reshape(-1,1)).ravel()\n",
    "#X_test[:,-1]=imputerlast.transform(X_test[:,-1].reshape(-1,1)).ravel()\n",
    "X[:,2:5]=imputer.transform(X[:,2:5])\n",
    "X_test[:,2:5]=imputer.transform(X_test[:,2:5])\n",
    "X_test[:,5]=imputer.fit_transform(X_test[:,5].reshape(-1,1)).ravel()\n"
   ]
  },
  {
   "cell_type": "markdown",
   "id": "70f052c4-b00b-4498-bac4-dd8a25819f8b",
   "metadata": {
    "jp-MarkdownHeadingCollapsed": true
   },
   "source": [
    "## Encode features"
   ]
  },
  {
   "cell_type": "code",
   "execution_count": 68,
   "id": "1bd2fbde-25ac-44d5-a80e-26fc14c3ce08",
   "metadata": {
    "scrolled": true
   },
   "outputs": [
    {
     "name": "stdout",
     "output_type": "stream",
     "text": [
      "[2 0 2 0 2 2 0 2 2 1 2 0 2 2 2 1 2 1 2 2 1 1 2 0 2 2 2 0 2 2 0 0 2 1 0 0 2\n",
      " 2 2 2 2 1 2 1 2 2 2 2 2 2 2 2 0 1 0 0 1 2 1 2 2 0 0 2 0 2 1 2 2 2 1 2 1 2\n",
      " 2 2 2 2 1 2 2 2 2 0 1 2 2 2 0 2 2 2 0 2 2 2 0 0 1 1 2 2 0 2 2 2 2 2 2 2 0\n",
      " 2 2 2 2 2 2 1 0 2 1 2 1 1 0 2 2 2 2 2 2 2 2 1 1 1 0 0 2 0 2 2 2 2 1 1 2 2\n",
      " 1 1 1 0 2 2 2 0 2 2 2 2 2 1 2 2 2 2 0 2 0 2 0 2 2 2 0 2 2 0 1 2 2 1 2 1 2\n",
      " 0 2 0 2 2 1 1 2 1 0 0 2 2 2 1 2 2 2 2 2 2 2 2 2 0 2 1 2 1 2 0 2 1 0 1 2 1\n",
      " 2 2 0 2 1 2 1 2 0 2 1 2 1 2 1 1 1 1 2 2 1 2 2 0 2 1 0 1 2 2 0 2 2 2 0 0 0\n",
      " 1 2 2 0 0 2 1 2 2 0 0 0 2 1 0 2 0 2 1 2 2 2 2 2 2 0 2 2 2 1 2 0 0 1 2 2 0\n",
      " 2 0 0 0 2 2 2 1 2 0 0 0 1 0 0 0 1 2 1 2 1 1 0 0 2 2 1 1 2 0 2 1 2 0 2 0 0\n",
      " 2 0 2 0 0 2 0 1 0 1 1 1 1 1 2 2 2 2 0 2 2 2 2 0 1 2 2 2 1 2 2 2 2 0 2 2 0\n",
      " 0 2 2 0 2 0 2 0 2 2 0 2 2 0 2 1 2 1 2 1 0 2 2 0 2 2 2 1 1 1 2 2 2 2 2 1 2\n",
      " 1 2 2 2 2 0 1 2 2 1 1 1 2 2 2 2 2 2 2 1 1 2 2 0 2 1 2 0 0 2 1 0 1 1 2 2 1\n",
      " 2 0 1 0 2 0 1 2 0 0 2 2 0 0 1 2 0 2 0 1 2 2 1 0 2 2 2 2 1 1 2 0 1 2 2 2 2\n",
      " 1 2 2 0 2 0 0 2 2 2 2 0 0 2 2 0 2 0 2 2 2 2 2 0 0 1 0 2 2 2 2 0 0 2 0 1 2\n",
      " 1 2 0 2 2 0 2 2 1 0 2 1 1 2 2 2 2 1 0 0 2 0 0 2 2 1 0 0 1 1 2 1 0 1 2 2 2\n",
      " 0 0 0 0 2 2 2 1 2 2 2 2 2 2 2 1 0 0 2 2 2 1 0 2 2 1 0 1 0 2 0 1 0 2 2 2 0\n",
      " 2 2 1 2 1 2 2 0 1 2 0 2 0 2 2 0 1 0 2 2 2 2 2 1 2 2 1 1 2 0 2 2 2 0 1 0 2\n",
      " 2 0 2 0 0 2 1 2 1 2 2 2 0 2 2 2 0 2 0 2 2 2 1 2 2 2 1 2 2 1 0 0 2 0 2 2 1\n",
      " 1 2 2 0 1 0 1 1 1 2 2 2 2 0 2 0 2 2 1 1 2 2 2 0 0 2 2 2 0 1 2 2 0 2 0 0 2\n",
      " 2 2 1 1 0 0 2 0 0 0 2 1 2 0 1 2 2 1 2 1 1 0 2 1 2 1 2 0 2 1 1 1 2 2 0 2 2\n",
      " 0 0 0 2 2 0 2 1 0 2 1 2 2 2 1 1 2 1 2 0 2 2 2 0 2 0 0 2 2 2 2 2 1 2 1 2 2\n",
      " 2 2 0 2 0 0 2 2 2 2 2 2 0 2 1 2 0 2 1 0 2 2 2 1 1 0 2 2 2 0 2 1 0 2 2 1 2\n",
      " 2 0 2 1 2 2 0 2 0 2 2 2 2 1 2 0 2 1 2 2 2 0 2 2 2 0 2 1 0 2 2 2 2 2 1 0 2\n",
      " 2 2 0 1 2 0 0 2 2 2 1 0 2 1 1 1 0 2 2 2 0 0 2 1 2 2 2 2 0 1 2 2 1 2 2 1 0\n",
      " 2 0 2]\n"
     ]
    }
   ],
   "source": [
    "labelEnc=LabelEncoder()\n",
    "print(labelEnc.fit_transform(X[:,0]))\n",
    "X[:,0]=labelEnc.fit_transform(X[:,0])\n",
    "X_test[:,0]=labelEnc.fit_transform(X_test[:,0])\n",
    "X[:,1]=labelEnc.fit_transform(X[:,1])\n",
    "X_test[:,1]=labelEnc.fit_transform(X_test[:,1])"
   ]
  },
  {
   "cell_type": "code",
   "execution_count": 18,
   "id": "0691ba7a-bbd8-46ef-a7aa-cd8a52d7285d",
   "metadata": {
    "scrolled": true
   },
   "outputs": [
    {
     "ename": "ValueError",
     "evalue": "Found unknown categories [-0.47229488019189403, -0.4941603014465734, 0.14173921527985, 3.726276775811457, -0.3270161077979945, -0.45132962639201407, -0.3795913903654257, -0.48072854514504726, -0.43912822997412204, 0.866820169258505, 0.002602415148500854, -0.12310262868132209, 0.12405033516370496, 0.048463784996293086, -0.11606048896397234, 0.34024775880547814, -0.06266562161782642, -0.029335840616761092, -0.47786294656623174] in column 0 during transform",
     "output_type": "error",
     "traceback": [
      "\u001b[0;31m---------------------------------------------------------------------------\u001b[0m",
      "\u001b[0;31mValueError\u001b[0m                                Traceback (most recent call last)",
      "Cell \u001b[0;32mIn[18], line 3\u001b[0m\n\u001b[1;32m      1\u001b[0m ct\u001b[38;5;241m=\u001b[39mColumnTransformer(transformers\u001b[38;5;241m=\u001b[39m[(\u001b[38;5;124m'\u001b[39m\u001b[38;5;124mencoder\u001b[39m\u001b[38;5;124m'\u001b[39m,OneHotEncoder(),[\u001b[38;5;241m-\u001b[39m\u001b[38;5;241m1\u001b[39m])],remainder\u001b[38;5;241m=\u001b[39m\u001b[38;5;124m'\u001b[39m\u001b[38;5;124mpassthrough\u001b[39m\u001b[38;5;124m'\u001b[39m)\n\u001b[1;32m      2\u001b[0m X_train\u001b[38;5;241m=\u001b[39mnp\u001b[38;5;241m.\u001b[39marray(ct\u001b[38;5;241m.\u001b[39mfit_transform(X_train))\n\u001b[0;32m----> 3\u001b[0m X_train_test\u001b[38;5;241m=\u001b[39mnp\u001b[38;5;241m.\u001b[39marray(\u001b[43mct\u001b[49m\u001b[38;5;241;43m.\u001b[39;49m\u001b[43mtransform\u001b[49m\u001b[43m(\u001b[49m\u001b[43mX_train_test\u001b[49m\u001b[43m)\u001b[49m)\n\u001b[1;32m      4\u001b[0m X_test\u001b[38;5;241m=\u001b[39mnp\u001b[38;5;241m.\u001b[39marray(ct\u001b[38;5;241m.\u001b[39mtransform(X_test))\n\u001b[1;32m      5\u001b[0m \u001b[38;5;28mprint\u001b[39m(X_train_test)\n",
      "File \u001b[0;32m~/my-jupyter-env/lib/python3.8/site-packages/sklearn/utils/_set_output.py:157\u001b[0m, in \u001b[0;36m_wrap_method_output.<locals>.wrapped\u001b[0;34m(self, X, *args, **kwargs)\u001b[0m\n\u001b[1;32m    155\u001b[0m \u001b[38;5;129m@wraps\u001b[39m(f)\n\u001b[1;32m    156\u001b[0m \u001b[38;5;28;01mdef\u001b[39;00m \u001b[38;5;21mwrapped\u001b[39m(\u001b[38;5;28mself\u001b[39m, X, \u001b[38;5;241m*\u001b[39margs, \u001b[38;5;241m*\u001b[39m\u001b[38;5;241m*\u001b[39mkwargs):\n\u001b[0;32m--> 157\u001b[0m     data_to_wrap \u001b[38;5;241m=\u001b[39m \u001b[43mf\u001b[49m\u001b[43m(\u001b[49m\u001b[38;5;28;43mself\u001b[39;49m\u001b[43m,\u001b[49m\u001b[43m \u001b[49m\u001b[43mX\u001b[49m\u001b[43m,\u001b[49m\u001b[43m \u001b[49m\u001b[38;5;241;43m*\u001b[39;49m\u001b[43margs\u001b[49m\u001b[43m,\u001b[49m\u001b[43m \u001b[49m\u001b[38;5;241;43m*\u001b[39;49m\u001b[38;5;241;43m*\u001b[39;49m\u001b[43mkwargs\u001b[49m\u001b[43m)\u001b[49m\n\u001b[1;32m    158\u001b[0m     \u001b[38;5;28;01mif\u001b[39;00m \u001b[38;5;28misinstance\u001b[39m(data_to_wrap, \u001b[38;5;28mtuple\u001b[39m):\n\u001b[1;32m    159\u001b[0m         \u001b[38;5;66;03m# only wrap the first output for cross decomposition\u001b[39;00m\n\u001b[1;32m    160\u001b[0m         return_tuple \u001b[38;5;241m=\u001b[39m (\n\u001b[1;32m    161\u001b[0m             _wrap_data_with_container(method, data_to_wrap[\u001b[38;5;241m0\u001b[39m], X, \u001b[38;5;28mself\u001b[39m),\n\u001b[1;32m    162\u001b[0m             \u001b[38;5;241m*\u001b[39mdata_to_wrap[\u001b[38;5;241m1\u001b[39m:],\n\u001b[1;32m    163\u001b[0m         )\n",
      "File \u001b[0;32m~/my-jupyter-env/lib/python3.8/site-packages/sklearn/compose/_column_transformer.py:827\u001b[0m, in \u001b[0;36mColumnTransformer.transform\u001b[0;34m(self, X)\u001b[0m\n\u001b[1;32m    822\u001b[0m \u001b[38;5;28;01melse\u001b[39;00m:\n\u001b[1;32m    823\u001b[0m     \u001b[38;5;66;03m# ndarray was used for fitting or transforming, thus we only\u001b[39;00m\n\u001b[1;32m    824\u001b[0m     \u001b[38;5;66;03m# check that n_features_in_ is consistent\u001b[39;00m\n\u001b[1;32m    825\u001b[0m     \u001b[38;5;28mself\u001b[39m\u001b[38;5;241m.\u001b[39m_check_n_features(X, reset\u001b[38;5;241m=\u001b[39m\u001b[38;5;28;01mFalse\u001b[39;00m)\n\u001b[0;32m--> 827\u001b[0m Xs \u001b[38;5;241m=\u001b[39m \u001b[38;5;28;43mself\u001b[39;49m\u001b[38;5;241;43m.\u001b[39;49m\u001b[43m_fit_transform\u001b[49m\u001b[43m(\u001b[49m\n\u001b[1;32m    828\u001b[0m \u001b[43m    \u001b[49m\u001b[43mX\u001b[49m\u001b[43m,\u001b[49m\n\u001b[1;32m    829\u001b[0m \u001b[43m    \u001b[49m\u001b[38;5;28;43;01mNone\u001b[39;49;00m\u001b[43m,\u001b[49m\n\u001b[1;32m    830\u001b[0m \u001b[43m    \u001b[49m\u001b[43m_transform_one\u001b[49m\u001b[43m,\u001b[49m\n\u001b[1;32m    831\u001b[0m \u001b[43m    \u001b[49m\u001b[43mfitted\u001b[49m\u001b[38;5;241;43m=\u001b[39;49m\u001b[38;5;28;43;01mTrue\u001b[39;49;00m\u001b[43m,\u001b[49m\n\u001b[1;32m    832\u001b[0m \u001b[43m    \u001b[49m\u001b[43mcolumn_as_strings\u001b[49m\u001b[38;5;241;43m=\u001b[39;49m\u001b[43mfit_dataframe_and_transform_dataframe\u001b[49m\u001b[43m,\u001b[49m\n\u001b[1;32m    833\u001b[0m \u001b[43m\u001b[49m\u001b[43m)\u001b[49m\n\u001b[1;32m    834\u001b[0m \u001b[38;5;28mself\u001b[39m\u001b[38;5;241m.\u001b[39m_validate_output(Xs)\n\u001b[1;32m    836\u001b[0m \u001b[38;5;28;01mif\u001b[39;00m \u001b[38;5;129;01mnot\u001b[39;00m Xs:\n\u001b[1;32m    837\u001b[0m     \u001b[38;5;66;03m# All transformers are None\u001b[39;00m\n",
      "File \u001b[0;32m~/my-jupyter-env/lib/python3.8/site-packages/sklearn/compose/_column_transformer.py:681\u001b[0m, in \u001b[0;36mColumnTransformer._fit_transform\u001b[0;34m(self, X, y, func, fitted, column_as_strings)\u001b[0m\n\u001b[1;32m    675\u001b[0m transformers \u001b[38;5;241m=\u001b[39m \u001b[38;5;28mlist\u001b[39m(\n\u001b[1;32m    676\u001b[0m     \u001b[38;5;28mself\u001b[39m\u001b[38;5;241m.\u001b[39m_iter(\n\u001b[1;32m    677\u001b[0m         fitted\u001b[38;5;241m=\u001b[39mfitted, replace_strings\u001b[38;5;241m=\u001b[39m\u001b[38;5;28;01mTrue\u001b[39;00m, column_as_strings\u001b[38;5;241m=\u001b[39mcolumn_as_strings\n\u001b[1;32m    678\u001b[0m     )\n\u001b[1;32m    679\u001b[0m )\n\u001b[1;32m    680\u001b[0m \u001b[38;5;28;01mtry\u001b[39;00m:\n\u001b[0;32m--> 681\u001b[0m     \u001b[38;5;28;01mreturn\u001b[39;00m \u001b[43mParallel\u001b[49m\u001b[43m(\u001b[49m\u001b[43mn_jobs\u001b[49m\u001b[38;5;241;43m=\u001b[39;49m\u001b[38;5;28;43mself\u001b[39;49m\u001b[38;5;241;43m.\u001b[39;49m\u001b[43mn_jobs\u001b[49m\u001b[43m)\u001b[49m\u001b[43m(\u001b[49m\n\u001b[1;32m    682\u001b[0m \u001b[43m        \u001b[49m\u001b[43mdelayed\u001b[49m\u001b[43m(\u001b[49m\u001b[43mfunc\u001b[49m\u001b[43m)\u001b[49m\u001b[43m(\u001b[49m\n\u001b[1;32m    683\u001b[0m \u001b[43m            \u001b[49m\u001b[43mtransformer\u001b[49m\u001b[38;5;241;43m=\u001b[39;49m\u001b[43mclone\u001b[49m\u001b[43m(\u001b[49m\u001b[43mtrans\u001b[49m\u001b[43m)\u001b[49m\u001b[43m \u001b[49m\u001b[38;5;28;43;01mif\u001b[39;49;00m\u001b[43m \u001b[49m\u001b[38;5;129;43;01mnot\u001b[39;49;00m\u001b[43m \u001b[49m\u001b[43mfitted\u001b[49m\u001b[43m \u001b[49m\u001b[38;5;28;43;01melse\u001b[39;49;00m\u001b[43m \u001b[49m\u001b[43mtrans\u001b[49m\u001b[43m,\u001b[49m\n\u001b[1;32m    684\u001b[0m \u001b[43m            \u001b[49m\u001b[43mX\u001b[49m\u001b[38;5;241;43m=\u001b[39;49m\u001b[43m_safe_indexing\u001b[49m\u001b[43m(\u001b[49m\u001b[43mX\u001b[49m\u001b[43m,\u001b[49m\u001b[43m \u001b[49m\u001b[43mcolumn\u001b[49m\u001b[43m,\u001b[49m\u001b[43m \u001b[49m\u001b[43maxis\u001b[49m\u001b[38;5;241;43m=\u001b[39;49m\u001b[38;5;241;43m1\u001b[39;49m\u001b[43m)\u001b[49m\u001b[43m,\u001b[49m\n\u001b[1;32m    685\u001b[0m \u001b[43m            \u001b[49m\u001b[43my\u001b[49m\u001b[38;5;241;43m=\u001b[39;49m\u001b[43my\u001b[49m\u001b[43m,\u001b[49m\n\u001b[1;32m    686\u001b[0m \u001b[43m            \u001b[49m\u001b[43mweight\u001b[49m\u001b[38;5;241;43m=\u001b[39;49m\u001b[43mweight\u001b[49m\u001b[43m,\u001b[49m\n\u001b[1;32m    687\u001b[0m \u001b[43m            \u001b[49m\u001b[43mmessage_clsname\u001b[49m\u001b[38;5;241;43m=\u001b[39;49m\u001b[38;5;124;43m\"\u001b[39;49m\u001b[38;5;124;43mColumnTransformer\u001b[39;49m\u001b[38;5;124;43m\"\u001b[39;49m\u001b[43m,\u001b[49m\n\u001b[1;32m    688\u001b[0m \u001b[43m            \u001b[49m\u001b[43mmessage\u001b[49m\u001b[38;5;241;43m=\u001b[39;49m\u001b[38;5;28;43mself\u001b[39;49m\u001b[38;5;241;43m.\u001b[39;49m\u001b[43m_log_message\u001b[49m\u001b[43m(\u001b[49m\u001b[43mname\u001b[49m\u001b[43m,\u001b[49m\u001b[43m \u001b[49m\u001b[43midx\u001b[49m\u001b[43m,\u001b[49m\u001b[43m \u001b[49m\u001b[38;5;28;43mlen\u001b[39;49m\u001b[43m(\u001b[49m\u001b[43mtransformers\u001b[49m\u001b[43m)\u001b[49m\u001b[43m)\u001b[49m\u001b[43m,\u001b[49m\n\u001b[1;32m    689\u001b[0m \u001b[43m        \u001b[49m\u001b[43m)\u001b[49m\n\u001b[1;32m    690\u001b[0m \u001b[43m        \u001b[49m\u001b[38;5;28;43;01mfor\u001b[39;49;00m\u001b[43m \u001b[49m\u001b[43midx\u001b[49m\u001b[43m,\u001b[49m\u001b[43m \u001b[49m\u001b[43m(\u001b[49m\u001b[43mname\u001b[49m\u001b[43m,\u001b[49m\u001b[43m \u001b[49m\u001b[43mtrans\u001b[49m\u001b[43m,\u001b[49m\u001b[43m \u001b[49m\u001b[43mcolumn\u001b[49m\u001b[43m,\u001b[49m\u001b[43m \u001b[49m\u001b[43mweight\u001b[49m\u001b[43m)\u001b[49m\u001b[43m \u001b[49m\u001b[38;5;129;43;01min\u001b[39;49;00m\u001b[43m \u001b[49m\u001b[38;5;28;43menumerate\u001b[39;49m\u001b[43m(\u001b[49m\u001b[43mtransformers\u001b[49m\u001b[43m,\u001b[49m\u001b[43m \u001b[49m\u001b[38;5;241;43m1\u001b[39;49m\u001b[43m)\u001b[49m\n\u001b[1;32m    691\u001b[0m \u001b[43m    \u001b[49m\u001b[43m)\u001b[49m\n\u001b[1;32m    692\u001b[0m \u001b[38;5;28;01mexcept\u001b[39;00m \u001b[38;5;167;01mValueError\u001b[39;00m \u001b[38;5;28;01mas\u001b[39;00m e:\n\u001b[1;32m    693\u001b[0m     \u001b[38;5;28;01mif\u001b[39;00m \u001b[38;5;124m\"\u001b[39m\u001b[38;5;124mExpected 2D array, got 1D array instead\u001b[39m\u001b[38;5;124m\"\u001b[39m \u001b[38;5;129;01min\u001b[39;00m \u001b[38;5;28mstr\u001b[39m(e):\n",
      "File \u001b[0;32m~/my-jupyter-env/lib/python3.8/site-packages/sklearn/utils/parallel.py:65\u001b[0m, in \u001b[0;36mParallel.__call__\u001b[0;34m(self, iterable)\u001b[0m\n\u001b[1;32m     60\u001b[0m config \u001b[38;5;241m=\u001b[39m get_config()\n\u001b[1;32m     61\u001b[0m iterable_with_config \u001b[38;5;241m=\u001b[39m (\n\u001b[1;32m     62\u001b[0m     (_with_config(delayed_func, config), args, kwargs)\n\u001b[1;32m     63\u001b[0m     \u001b[38;5;28;01mfor\u001b[39;00m delayed_func, args, kwargs \u001b[38;5;129;01min\u001b[39;00m iterable\n\u001b[1;32m     64\u001b[0m )\n\u001b[0;32m---> 65\u001b[0m \u001b[38;5;28;01mreturn\u001b[39;00m \u001b[38;5;28;43msuper\u001b[39;49m\u001b[43m(\u001b[49m\u001b[43m)\u001b[49m\u001b[38;5;241;43m.\u001b[39;49m\u001b[38;5;21;43m__call__\u001b[39;49m\u001b[43m(\u001b[49m\u001b[43miterable_with_config\u001b[49m\u001b[43m)\u001b[49m\n",
      "File \u001b[0;32m~/my-jupyter-env/lib/python3.8/site-packages/joblib/parallel.py:1863\u001b[0m, in \u001b[0;36mParallel.__call__\u001b[0;34m(self, iterable)\u001b[0m\n\u001b[1;32m   1861\u001b[0m     output \u001b[38;5;241m=\u001b[39m \u001b[38;5;28mself\u001b[39m\u001b[38;5;241m.\u001b[39m_get_sequential_output(iterable)\n\u001b[1;32m   1862\u001b[0m     \u001b[38;5;28mnext\u001b[39m(output)\n\u001b[0;32m-> 1863\u001b[0m     \u001b[38;5;28;01mreturn\u001b[39;00m output \u001b[38;5;28;01mif\u001b[39;00m \u001b[38;5;28mself\u001b[39m\u001b[38;5;241m.\u001b[39mreturn_generator \u001b[38;5;28;01melse\u001b[39;00m \u001b[38;5;28;43mlist\u001b[39;49m\u001b[43m(\u001b[49m\u001b[43moutput\u001b[49m\u001b[43m)\u001b[49m\n\u001b[1;32m   1865\u001b[0m \u001b[38;5;66;03m# Let's create an ID that uniquely identifies the current call. If the\u001b[39;00m\n\u001b[1;32m   1866\u001b[0m \u001b[38;5;66;03m# call is interrupted early and that the same instance is immediately\u001b[39;00m\n\u001b[1;32m   1867\u001b[0m \u001b[38;5;66;03m# re-used, this id will be used to prevent workers that were\u001b[39;00m\n\u001b[1;32m   1868\u001b[0m \u001b[38;5;66;03m# concurrently finalizing a task from the previous call to run the\u001b[39;00m\n\u001b[1;32m   1869\u001b[0m \u001b[38;5;66;03m# callback.\u001b[39;00m\n\u001b[1;32m   1870\u001b[0m \u001b[38;5;28;01mwith\u001b[39;00m \u001b[38;5;28mself\u001b[39m\u001b[38;5;241m.\u001b[39m_lock:\n",
      "File \u001b[0;32m~/my-jupyter-env/lib/python3.8/site-packages/joblib/parallel.py:1792\u001b[0m, in \u001b[0;36mParallel._get_sequential_output\u001b[0;34m(self, iterable)\u001b[0m\n\u001b[1;32m   1790\u001b[0m \u001b[38;5;28mself\u001b[39m\u001b[38;5;241m.\u001b[39mn_dispatched_batches \u001b[38;5;241m+\u001b[39m\u001b[38;5;241m=\u001b[39m \u001b[38;5;241m1\u001b[39m\n\u001b[1;32m   1791\u001b[0m \u001b[38;5;28mself\u001b[39m\u001b[38;5;241m.\u001b[39mn_dispatched_tasks \u001b[38;5;241m+\u001b[39m\u001b[38;5;241m=\u001b[39m \u001b[38;5;241m1\u001b[39m\n\u001b[0;32m-> 1792\u001b[0m res \u001b[38;5;241m=\u001b[39m \u001b[43mfunc\u001b[49m\u001b[43m(\u001b[49m\u001b[38;5;241;43m*\u001b[39;49m\u001b[43margs\u001b[49m\u001b[43m,\u001b[49m\u001b[43m \u001b[49m\u001b[38;5;241;43m*\u001b[39;49m\u001b[38;5;241;43m*\u001b[39;49m\u001b[43mkwargs\u001b[49m\u001b[43m)\u001b[49m\n\u001b[1;32m   1793\u001b[0m \u001b[38;5;28mself\u001b[39m\u001b[38;5;241m.\u001b[39mn_completed_tasks \u001b[38;5;241m+\u001b[39m\u001b[38;5;241m=\u001b[39m \u001b[38;5;241m1\u001b[39m\n\u001b[1;32m   1794\u001b[0m \u001b[38;5;28mself\u001b[39m\u001b[38;5;241m.\u001b[39mprint_progress()\n",
      "File \u001b[0;32m~/my-jupyter-env/lib/python3.8/site-packages/sklearn/utils/parallel.py:127\u001b[0m, in \u001b[0;36m_FuncWrapper.__call__\u001b[0;34m(self, *args, **kwargs)\u001b[0m\n\u001b[1;32m    125\u001b[0m     config \u001b[38;5;241m=\u001b[39m {}\n\u001b[1;32m    126\u001b[0m \u001b[38;5;28;01mwith\u001b[39;00m config_context(\u001b[38;5;241m*\u001b[39m\u001b[38;5;241m*\u001b[39mconfig):\n\u001b[0;32m--> 127\u001b[0m     \u001b[38;5;28;01mreturn\u001b[39;00m \u001b[38;5;28;43mself\u001b[39;49m\u001b[38;5;241;43m.\u001b[39;49m\u001b[43mfunction\u001b[49m\u001b[43m(\u001b[49m\u001b[38;5;241;43m*\u001b[39;49m\u001b[43margs\u001b[49m\u001b[43m,\u001b[49m\u001b[43m \u001b[49m\u001b[38;5;241;43m*\u001b[39;49m\u001b[38;5;241;43m*\u001b[39;49m\u001b[43mkwargs\u001b[49m\u001b[43m)\u001b[49m\n",
      "File \u001b[0;32m~/my-jupyter-env/lib/python3.8/site-packages/sklearn/pipeline.py:940\u001b[0m, in \u001b[0;36m_transform_one\u001b[0;34m(transformer, X, y, weight, **fit_params)\u001b[0m\n\u001b[1;32m    939\u001b[0m \u001b[38;5;28;01mdef\u001b[39;00m \u001b[38;5;21m_transform_one\u001b[39m(transformer, X, y, weight, \u001b[38;5;241m*\u001b[39m\u001b[38;5;241m*\u001b[39mfit_params):\n\u001b[0;32m--> 940\u001b[0m     res \u001b[38;5;241m=\u001b[39m \u001b[43mtransformer\u001b[49m\u001b[38;5;241;43m.\u001b[39;49m\u001b[43mtransform\u001b[49m\u001b[43m(\u001b[49m\u001b[43mX\u001b[49m\u001b[43m)\u001b[49m\n\u001b[1;32m    941\u001b[0m     \u001b[38;5;66;03m# if we have a weight for this transformer, multiply output\u001b[39;00m\n\u001b[1;32m    942\u001b[0m     \u001b[38;5;28;01mif\u001b[39;00m weight \u001b[38;5;129;01mis\u001b[39;00m \u001b[38;5;28;01mNone\u001b[39;00m:\n",
      "File \u001b[0;32m~/my-jupyter-env/lib/python3.8/site-packages/sklearn/utils/_set_output.py:157\u001b[0m, in \u001b[0;36m_wrap_method_output.<locals>.wrapped\u001b[0;34m(self, X, *args, **kwargs)\u001b[0m\n\u001b[1;32m    155\u001b[0m \u001b[38;5;129m@wraps\u001b[39m(f)\n\u001b[1;32m    156\u001b[0m \u001b[38;5;28;01mdef\u001b[39;00m \u001b[38;5;21mwrapped\u001b[39m(\u001b[38;5;28mself\u001b[39m, X, \u001b[38;5;241m*\u001b[39margs, \u001b[38;5;241m*\u001b[39m\u001b[38;5;241m*\u001b[39mkwargs):\n\u001b[0;32m--> 157\u001b[0m     data_to_wrap \u001b[38;5;241m=\u001b[39m \u001b[43mf\u001b[49m\u001b[43m(\u001b[49m\u001b[38;5;28;43mself\u001b[39;49m\u001b[43m,\u001b[49m\u001b[43m \u001b[49m\u001b[43mX\u001b[49m\u001b[43m,\u001b[49m\u001b[43m \u001b[49m\u001b[38;5;241;43m*\u001b[39;49m\u001b[43margs\u001b[49m\u001b[43m,\u001b[49m\u001b[43m \u001b[49m\u001b[38;5;241;43m*\u001b[39;49m\u001b[38;5;241;43m*\u001b[39;49m\u001b[43mkwargs\u001b[49m\u001b[43m)\u001b[49m\n\u001b[1;32m    158\u001b[0m     \u001b[38;5;28;01mif\u001b[39;00m \u001b[38;5;28misinstance\u001b[39m(data_to_wrap, \u001b[38;5;28mtuple\u001b[39m):\n\u001b[1;32m    159\u001b[0m         \u001b[38;5;66;03m# only wrap the first output for cross decomposition\u001b[39;00m\n\u001b[1;32m    160\u001b[0m         return_tuple \u001b[38;5;241m=\u001b[39m (\n\u001b[1;32m    161\u001b[0m             _wrap_data_with_container(method, data_to_wrap[\u001b[38;5;241m0\u001b[39m], X, \u001b[38;5;28mself\u001b[39m),\n\u001b[1;32m    162\u001b[0m             \u001b[38;5;241m*\u001b[39mdata_to_wrap[\u001b[38;5;241m1\u001b[39m:],\n\u001b[1;32m    163\u001b[0m         )\n",
      "File \u001b[0;32m~/my-jupyter-env/lib/python3.8/site-packages/sklearn/preprocessing/_encoders.py:1027\u001b[0m, in \u001b[0;36mOneHotEncoder.transform\u001b[0;34m(self, X)\u001b[0m\n\u001b[1;32m   1022\u001b[0m \u001b[38;5;66;03m# validation of X happens in _check_X called by _transform\u001b[39;00m\n\u001b[1;32m   1023\u001b[0m warn_on_unknown \u001b[38;5;241m=\u001b[39m \u001b[38;5;28mself\u001b[39m\u001b[38;5;241m.\u001b[39mdrop \u001b[38;5;129;01mis\u001b[39;00m \u001b[38;5;129;01mnot\u001b[39;00m \u001b[38;5;28;01mNone\u001b[39;00m \u001b[38;5;129;01mand\u001b[39;00m \u001b[38;5;28mself\u001b[39m\u001b[38;5;241m.\u001b[39mhandle_unknown \u001b[38;5;129;01min\u001b[39;00m {\n\u001b[1;32m   1024\u001b[0m     \u001b[38;5;124m\"\u001b[39m\u001b[38;5;124mignore\u001b[39m\u001b[38;5;124m\"\u001b[39m,\n\u001b[1;32m   1025\u001b[0m     \u001b[38;5;124m\"\u001b[39m\u001b[38;5;124minfrequent_if_exist\u001b[39m\u001b[38;5;124m\"\u001b[39m,\n\u001b[1;32m   1026\u001b[0m }\n\u001b[0;32m-> 1027\u001b[0m X_int, X_mask \u001b[38;5;241m=\u001b[39m \u001b[38;5;28;43mself\u001b[39;49m\u001b[38;5;241;43m.\u001b[39;49m\u001b[43m_transform\u001b[49m\u001b[43m(\u001b[49m\n\u001b[1;32m   1028\u001b[0m \u001b[43m    \u001b[49m\u001b[43mX\u001b[49m\u001b[43m,\u001b[49m\n\u001b[1;32m   1029\u001b[0m \u001b[43m    \u001b[49m\u001b[43mhandle_unknown\u001b[49m\u001b[38;5;241;43m=\u001b[39;49m\u001b[38;5;28;43mself\u001b[39;49m\u001b[38;5;241;43m.\u001b[39;49m\u001b[43mhandle_unknown\u001b[49m\u001b[43m,\u001b[49m\n\u001b[1;32m   1030\u001b[0m \u001b[43m    \u001b[49m\u001b[43mforce_all_finite\u001b[49m\u001b[38;5;241;43m=\u001b[39;49m\u001b[38;5;124;43m\"\u001b[39;49m\u001b[38;5;124;43mallow-nan\u001b[39;49m\u001b[38;5;124;43m\"\u001b[39;49m\u001b[43m,\u001b[49m\n\u001b[1;32m   1031\u001b[0m \u001b[43m    \u001b[49m\u001b[43mwarn_on_unknown\u001b[49m\u001b[38;5;241;43m=\u001b[39;49m\u001b[43mwarn_on_unknown\u001b[49m\u001b[43m,\u001b[49m\n\u001b[1;32m   1032\u001b[0m \u001b[43m\u001b[49m\u001b[43m)\u001b[49m\n\u001b[1;32m   1034\u001b[0m n_samples, n_features \u001b[38;5;241m=\u001b[39m X_int\u001b[38;5;241m.\u001b[39mshape\n\u001b[1;32m   1036\u001b[0m \u001b[38;5;28;01mif\u001b[39;00m \u001b[38;5;28mself\u001b[39m\u001b[38;5;241m.\u001b[39m_drop_idx_after_grouping \u001b[38;5;129;01mis\u001b[39;00m \u001b[38;5;129;01mnot\u001b[39;00m \u001b[38;5;28;01mNone\u001b[39;00m:\n",
      "File \u001b[0;32m~/my-jupyter-env/lib/python3.8/site-packages/sklearn/preprocessing/_encoders.py:200\u001b[0m, in \u001b[0;36m_BaseEncoder._transform\u001b[0;34m(self, X, handle_unknown, force_all_finite, warn_on_unknown, ignore_category_indices)\u001b[0m\n\u001b[1;32m    195\u001b[0m \u001b[38;5;28;01mif\u001b[39;00m handle_unknown \u001b[38;5;241m==\u001b[39m \u001b[38;5;124m\"\u001b[39m\u001b[38;5;124merror\u001b[39m\u001b[38;5;124m\"\u001b[39m:\n\u001b[1;32m    196\u001b[0m     msg \u001b[38;5;241m=\u001b[39m (\n\u001b[1;32m    197\u001b[0m         \u001b[38;5;124m\"\u001b[39m\u001b[38;5;124mFound unknown categories \u001b[39m\u001b[38;5;132;01m{0}\u001b[39;00m\u001b[38;5;124m in column \u001b[39m\u001b[38;5;132;01m{1}\u001b[39;00m\u001b[38;5;124m\"\u001b[39m\n\u001b[1;32m    198\u001b[0m         \u001b[38;5;124m\"\u001b[39m\u001b[38;5;124m during transform\u001b[39m\u001b[38;5;124m\"\u001b[39m\u001b[38;5;241m.\u001b[39mformat(diff, i)\n\u001b[1;32m    199\u001b[0m     )\n\u001b[0;32m--> 200\u001b[0m     \u001b[38;5;28;01mraise\u001b[39;00m \u001b[38;5;167;01mValueError\u001b[39;00m(msg)\n\u001b[1;32m    201\u001b[0m \u001b[38;5;28;01melse\u001b[39;00m:\n\u001b[1;32m    202\u001b[0m     \u001b[38;5;28;01mif\u001b[39;00m warn_on_unknown:\n",
      "\u001b[0;31mValueError\u001b[0m: Found unknown categories [-0.47229488019189403, -0.4941603014465734, 0.14173921527985, 3.726276775811457, -0.3270161077979945, -0.45132962639201407, -0.3795913903654257, -0.48072854514504726, -0.43912822997412204, 0.866820169258505, 0.002602415148500854, -0.12310262868132209, 0.12405033516370496, 0.048463784996293086, -0.11606048896397234, 0.34024775880547814, -0.06266562161782642, -0.029335840616761092, -0.47786294656623174] in column 0 during transform"
     ]
    }
   ],
   "source": [
    "ct=ColumnTransformer(transformers=[('encoder',OneHotEncoder(),[-1])],remainder='passthrough')\n",
    "X_train=np.array(ct.fit_transform(X_train))\n",
    "X_train_test=np.array(ct.transform(X_train_test))\n",
    "X_test=np.array(ct.transform(X_test))\n",
    "print(X_train_test)"
   ]
  },
  {
   "cell_type": "code",
   "execution_count": 69,
   "id": "f5029121-4f3d-44ba-846e-7d3e08930016",
   "metadata": {},
   "outputs": [],
   "source": [
    "from sklearn.model_selection import train_test_split\n",
    "X_train,X_train_test,y_train,y_test=train_test_split(X,y,test_size=0.15,random_state=42)"
   ]
  },
  {
   "cell_type": "markdown",
   "id": "c387dbc8-c76c-48ba-b79e-faa9538a1cc6",
   "metadata": {
    "jp-MarkdownHeadingCollapsed": true
   },
   "source": [
    "## Feature scaling"
   ]
  },
  {
   "cell_type": "code",
   "execution_count": 70,
   "id": "3c2a812d-907e-4b21-8293-21a9d0135a88",
   "metadata": {},
   "outputs": [],
   "source": [
    "sc_x=StandardScaler()\n",
    "X_train[:,-1]=sc_x.fit_transform(X_train[:,-1].reshape(-1,1)).ravel()\n",
    "X_train_test[:,-1]=sc_x.transform(X_train_test[:,-1].reshape(-1,1)).ravel()\n",
    "X_test[:,-1]=sc_x.transform(X_test[:,-1].reshape(-1,1)).ravel()\n"
   ]
  },
  {
   "cell_type": "code",
   "execution_count": 31,
   "id": "a16b1145-d8d7-4ed9-9d88-36f0b463bb99",
   "metadata": {},
   "outputs": [
    {
     "name": "stdout",
     "output_type": "stream",
     "text": [
      "[[0 1 49.0 1.0 0.0 0.48626356787088376]\n",
      " [2 0 15.0 1.0 0.0 -0.34855330205496315]\n",
      " [0 0 29.69911764705882 0.0 0.0 1.5466942419536653]\n",
      " [2 1 29.0 0.0 0.0 -0.4798283776902479]\n",
      " [2 1 42.0 0.0 0.0 -0.4842505977192841]\n",
      " [2 0 18.0 1.0 0.0 -0.28279390750763184]\n",
      " [2 1 21.0 0.0 0.0 -0.46688994460084976]\n",
      " [1 0 44.0 1.0 0.0 -0.12162855533831002]\n",
      " [1 1 28.0 0.0 0.0 -0.3771346014604056]\n",
      " [1 1 37.0 1.0 0.0 -0.12162855533831002]\n",
      " [2 0 39.0 0.0 5.0 -0.06020883271280627]\n",
      " [1 0 34.0 1.0 1.0 0.006124467722737771]\n",
      " [1 1 30.0 0.0 0.0 -0.3771346014604056]\n",
      " [1 1 66.0 0.0 0.0 -0.4262703795608086]\n",
      " [0 0 29.69911764705882 1.0 0.0 2.24712475877491]\n",
      " [2 1 43.0 0.0 0.0 -0.4744234420992035]\n",
      " [2 1 29.69911764705882 0.0 0.0 -0.46140246090259673]\n",
      " [2 1 24.0 0.0 0.0 -0.48531586138850086]\n",
      " [2 1 18.0 0.0 0.0 -0.4794195680164525]\n",
      " [2 0 29.69911764705882 1.0 0.0 -0.15798903113260826]\n",
      " [2 1 29.69911764705882 0.0 0.0 -0.4744234420992035]\n",
      " [2 1 29.69911764705882 0.0 0.0 -0.4940777533393647]\n",
      " [2 1 29.69911764705882 0.0 0.0 0.4777453893793979]\n",
      " [2 0 29.69911764705882 0.0 0.0 -0.4795826987997458]\n",
      " [1 0 36.0 1.0 0.0 -0.12162855533831002]\n",
      " [2 0 32.0 1.0 1.0 -0.3279988233600026]\n",
      " [2 1 23.5 0.0 0.0 -0.49055570076512783]\n",
      " [0 1 29.69911764705882 0.0 0.0 -0.11081868415622134]\n",
      " [1 1 39.0 0.0 0.0 -0.3771346014604056]\n",
      " [0 0 29.69911764705882 1.0 0.0 0.9823698304705366]\n",
      " [2 1 29.69911764705882 0.0 0.0 -0.4663985868198457]\n",
      " [0 1 65.0 0.0 1.0 0.5855178396336977]\n",
      " [1 1 23.0 0.0 0.0 -0.4262703795608086]\n",
      " [0 0 29.69911764705882 1.0 0.0 0.38668106911035893]\n",
      " [2 1 22.0 0.0 0.0 -0.4774541368924364]\n",
      " [2 1 35.0 0.0 0.0 -0.4940777533393647]\n",
      " [0 1 23.0 0.0 1.0 0.6126231002650041]\n",
      " [1 0 18.0 0.0 2.0 -0.3771346014604056]\n",
      " [0 1 36.0 0.0 0.0 -0.11401250973274757]\n",
      " [2 0 9.0 1.0 1.0 -0.3329949492772516]\n",
      " [2 1 17.0 0.0 0.0 -0.49260367999635263]\n",
      " [2 1 29.69911764705882 0.0 0.0 -0.4906382488723365]\n",
      " [2 0 38.0 1.0 5.0 -0.015740953531941576]\n",
      " [1 0 17.0 0.0 0.0 -0.4262703795608086]\n",
      " [2 0 4.0 1.0 1.0 -0.3044136498718092]\n",
      " [0 1 45.5 0.0 0.0 -0.07249277723790702]\n",
      " [1 1 23.0 0.0 0.0 -0.3771346014604056]\n",
      " [2 1 32.0 0.0 0.0 -0.47688023100422366]\n",
      " [2 1 26.0 1.0 0.0 -0.4782717562400271]\n",
      " [2 0 6.0 4.0 2.0 -0.017952063546459725]\n",
      " [0 1 24.0 0.0 1.0 4.2322101940311905]\n",
      " [0 1 45.0 0.0 0.0 -0.11081868415622134]\n",
      " [1 1 29.0 1.0 0.0 -0.08780741655624062]\n",
      " [2 1 29.69911764705882 0.0 0.0 -0.4774541368924364]\n",
      " [0 1 29.69911764705882 0.0 0.0 0.06508740144322137]\n",
      " [1 0 42.0 0.0 0.0 -0.3771346014604056]\n",
      " [2 1 36.0 1.0 1.0 -0.15798903113260826]\n",
      " [1 1 33.0 0.0 0.0 -0.3913839771095225]\n",
      " [2 1 17.0 1.0 0.0 -0.493995205232156]\n",
      " [2 1 29.0 0.0 0.0 -0.4459246908009698]\n",
      " [1 0 50.0 0.0 1.0 -0.12162855533831002]\n",
      " [0 0 35.0 1.0 0.0 1.1362473640320068]\n",
      " [0 0 38.0 0.0 0.0 3.8392065173351755]\n",
      " [1 1 34.0 0.0 0.0 -0.3771346014604056]\n",
      " [0 0 17.0 1.0 0.0 0.48765509310668714]\n",
      " [2 0 11.0 4.0 2.0 -0.017952063546459725]\n",
      " [2 1 61.0 0.0 0.0 -0.5100468812219957]\n",
      " [2 0 30.0 0.0 0.0 -0.46238517646460475]\n",
      " [1 0 7.0 0.0 2.0 -0.11671497752826972]\n",
      " [2 0 63.0 0.0 0.0 -0.4442049385674557]\n",
      " [2 1 20.0 0.0 0.0 -0.49055570076512783]\n",
      " [2 0 29.69911764705882 0.0 2.0 -0.19320366058160504]\n",
      " [2 1 29.0 0.0 0.0 -0.4462529177986805]\n",
      " [0 1 36.0 1.0 2.0 1.7258767012368426]\n",
      " [2 1 29.69911764705882 0.0 0.0 -0.34847271937887847]\n",
      " [2 1 50.0 0.0 0.0 -0.4744234420992035]\n",
      " [0 1 27.0 0.0 2.0 3.524246179711592]\n",
      " [2 1 30.0 0.0 0.0 -0.49014689109133247]\n",
      " [0 0 33.0 1.0 0.0 1.1362473640320068]\n",
      " [2 1 29.69911764705882 0.0 0.0 -0.4808110932522559]\n",
      " [2 0 29.69911764705882 3.0 1.0 -0.132110199522688]\n",
      " [2 1 2.0 3.0 1.0 -0.21842603819610393]\n",
      " [1 0 25.0 1.0 1.0 -0.04301131037766522]\n",
      " [0 1 51.0 0.0 1.0 0.573725252889601]\n",
      " [1 0 25.0 0.0 1.0 -0.12162855533831002]\n",
      " [2 1 29.69911764705882 0.0 0.0 -0.49014689109133247]\n",
      " [2 1 29.69911764705882 0.0 0.0 -0.4774541368924364]\n",
      " [1 0 24.0 0.0 0.0 -0.3771346014604056]\n",
      " [2 1 18.0 1.0 1.0 -0.23537788164074297]\n",
      " [0 1 29.69911764705882 0.0 0.0 -0.03318415475758463]\n",
      " [2 1 25.0 0.0 0.0 -0.4940777533393647]\n",
      " [1 0 24.0 0.0 2.0 -0.3476531346001638]\n",
      " [2 1 22.0 0.0 0.0 -0.4848245036074968]\n",
      " [0 1 0.92 1.0 2.0 2.3459702208639284]\n",
      " [1 0 24.0 1.0 0.0 -0.12162855533831002]\n",
      " [2 0 26.0 0.0 0.0 -0.47688023100422366]\n",
      " [1 1 34.0 1.0 0.0 -0.219900111539116]\n",
      " [0 0 21.0 2.0 2.0 4.524159264054793]\n",
      " [2 1 29.69911764705882 0.0 0.0 -0.4803197354712519]\n",
      " [2 0 29.69911764705882 0.0 0.0 -0.49055570076512783]\n",
      " [2 1 29.69911764705882 0.0 0.0 -0.46238517646460475]\n",
      " [2 0 22.0 0.0 0.0 -0.4798283776902479]\n",
      " [0 0 62.0 0.0 0.0 0.9397042516303947]\n",
      " [2 0 18.0 0.0 0.0 -0.4392088126502067]\n",
      " [0 0 42.0 0.0 0.0 3.8392065173351755]\n",
      " [1 1 57.0 0.0 0.0 -0.38990990376651036]\n",
      " [2 1 19.0 0.0 0.0 -0.6326406475825012]\n",
      " [1 0 42.0 1.0 0.0 -0.12162855533831002]\n",
      " [2 1 29.69911764705882 0.0 0.0 -0.4906382488723365]\n",
      " [2 0 20.0 0.0 0.0 -0.46238517646460475]\n",
      " [2 1 34.5 0.0 0.0 -0.5061160189739634]\n",
      " [2 1 28.0 0.0 0.0 -0.4459246908009698]\n",
      " [2 1 29.69911764705882 0.0 0.0 -0.4744234420992035]\n",
      " [2 1 23.0 0.0 0.0 -0.4774541368924364]\n",
      " [2 1 22.0 0.0 0.0 -0.49014689109133247]\n",
      " [0 1 52.0 0.0 0.0 -0.03318415475758463]\n",
      " [2 0 30.0 0.0 0.0 -0.3874531148614902]\n",
      " [1 1 36.5 0.0 2.0 -0.12162855533831002]\n",
      " [2 1 29.69911764705882 0.0 0.0 -0.4803197354712519]\n",
      " [2 1 22.0 0.0 0.0 -0.49055570076512783]\n",
      " [0 1 50.0 2.0 0.0 1.9941580496650428]\n",
      " [2 1 27.0 0.0 0.0 -0.4955518266823768]\n",
      " [2 1 22.0 0.0 0.0 -0.4744234420992035]\n",
      " [0 0 51.0 1.0 0.0 0.8995760443713574]\n",
      " [1 1 36.0 0.0 0.0 -0.4262703795608086]\n",
      " [1 0 29.0 1.0 0.0 -0.12162855533831002]\n",
      " [0 0 22.0 0.0 0.0 2.3459702208639284]\n",
      " [0 1 50.0 1.0 0.0 1.4590694261516544]\n",
      " [1 0 40.0 0.0 0.0 -0.3771346014604056]\n",
      " [2 1 27.0 0.0 0.0 -0.46238517646460475]\n",
      " [0 1 29.69911764705882 0.0 0.0 -0.6326406475825012]\n",
      " [0 1 65.0 0.0 0.0 -0.11081868415622134]\n",
      " [2 1 17.0 0.0 0.0 -0.46238517646460475]\n",
      " [0 1 28.0 0.0 0.0 -0.11081868415622134]\n",
      " [0 1 4.0 0.0 2.0 0.9762278582079862]\n",
      " [2 1 29.69911764705882 0.0 0.0 -0.4774541368924364]\n",
      " [2 0 1.0 1.0 1.0 -0.41382330425241454]\n",
      " [1 1 36.0 1.0 2.0 -0.08723351066802792]\n",
      " [1 1 43.0 1.0 1.0 -0.11671497752826972]\n",
      " [0 1 38.0 0.0 1.0 2.3835590911107367]\n",
      " [1 0 31.0 1.0 1.0 -0.11671497752826972]\n",
      " [2 1 29.0 0.0 0.0 -0.4744234420992035]\n",
      " [2 1 18.0 0.0 0.0 -0.4695098642891632]\n",
      " [1 1 29.69911764705882 0.0 0.0 -0.33684326341807513]\n",
      " [0 0 39.0 1.0 1.0 1.5466942419536653]\n",
      " [1 1 39.0 0.0 0.0 -0.3771346014604056]\n",
      " [2 1 26.0 2.0 0.0 -0.46238517646460475]\n",
      " [2 1 20.0 0.0 0.0 -0.4940777533393647]\n",
      " [0 0 29.69911764705882 1.0 0.0 1.9941580496650428]\n",
      " [2 1 49.0 0.0 0.0 -0.6326406475825012]\n",
      " [1 1 23.0 0.0 0.0 -0.33692581152528384]\n",
      " [2 1 1.0 4.0 1.0 0.1473898297613964]\n",
      " [2 0 29.69911764705882 0.0 0.0 -0.47778039845902304]\n",
      " [2 1 29.69911764705882 1.0 2.0 -0.17174704900072107]\n",
      " [1 1 3.0 1.0 1.0 -0.12162855533831002]\n",
      " [2 1 4.0 1.0 1.0 -0.41382330425241454]\n",
      " [2 1 19.0 0.0 0.0 -0.48228516659526804]\n",
      " [2 1 40.5 0.0 0.0 -0.4803197354712519]\n",
      " [2 0 1.0 0.0 2.0 -0.3232483763332556]\n",
      " [2 0 29.69911764705882 0.0 2.0 -0.3329949492772516]\n",
      " [2 1 21.0 0.0 0.0 -0.47688023100422366]\n",
      " [0 1 54.0 0.0 0.0 0.38668106911035893]\n",
      " [2 1 29.69911764705882 0.0 0.0 -0.3279988233600026]\n",
      " [1 1 25.0 1.0 2.0 0.18456989033440932]\n",
      " [2 1 26.0 1.0 0.0 -0.34855330205496315]\n",
      " [2 0 22.0 0.0 0.0 -0.4259421525630979]\n",
      " [2 0 31.0 1.0 1.0 -0.2292359093781926]\n",
      " [0 1 49.0 1.0 0.0 1.1186410320230704]\n",
      " [1 1 19.0 1.0 1.0 0.08965529049342287]\n",
      " [1 1 24.0 0.0 0.0 -0.4262703795608086]\n",
      " [2 1 16.0 0.0 0.0 -0.4744234420992035]\n",
      " [0 1 25.0 1.0 0.0 0.4570277799011439]\n",
      " [2 1 39.0 0.0 0.0 -0.15798903113260826]\n",
      " [2 0 47.0 1.0 0.0 -0.3476531346001638]\n",
      " [0 1 60.0 0.0 0.0 -0.11081868415622134]\n",
      " [1 1 24.0 0.0 0.0 -0.3771346014604056]\n",
      " [0 1 29.69911764705882 0.0 0.0 0.3500749144255587]\n",
      " [1 0 27.0 1.0 0.0 -0.219900111539116]\n",
      " [1 1 29.69911764705882 0.0 0.0 -0.36018275801576655]\n",
      " [2 1 38.0 0.0 0.0 -0.4774541368924364]\n",
      " [2 1 44.0 0.0 0.0 -0.4744234420992035]\n",
      " [1 0 21.0 0.0 0.0 -0.4262703795608086]\n",
      " [2 0 24.0 0.0 2.0 -0.3044136498718092]\n",
      " [1 0 45.0 0.0 0.0 -0.367307445840325]\n",
      " [1 1 8.0 1.0 1.0 0.08965529049342287]\n",
      " [2 0 8.0 3.0 1.0 -0.21842603819610393]\n",
      " [0 1 29.69911764705882 0.0 0.0 0.05526024582314077]\n",
      " [2 1 32.0 0.0 0.0 -0.4744234420992035]\n",
      " [0 1 50.0 1.0 0.0 0.4660353507425098]\n",
      " [2 1 21.0 0.0 0.0 -0.4793370199092438]\n",
      " [1 0 50.0 0.0 0.0 -0.4262703795608086]\n",
      " [2 0 23.0 0.0 0.0 -0.47688023100422366]\n",
      " [2 1 32.0 0.0 0.0 -0.4782717562400271]\n",
      " [2 0 29.69911764705882 0.0 0.0 -0.4803197354712519]\n",
      " [2 0 21.0 2.0 2.0 0.04297630129804002]\n",
      " [2 1 29.69911764705882 0.0 0.0 -0.4803197354712519]\n",
      " [2 1 25.0 0.0 0.0 -0.4906382488723365]\n",
      " [2 1 15.0 1.0 1.0 -0.49055570076512783]\n",
      " [2 0 31.0 1.0 0.0 -0.2788630452595996]\n",
      " [1 1 25.0 0.0 0.0 -0.3771346014604056]\n",
      " [1 1 54.0 0.0 0.0 -0.12162855533831002]\n",
      " [0 1 28.0 0.0 0.0 0.2930774118290913]\n",
      " [0 0 38.0 0.0 0.0 0.9397042516303947]\n",
      " [1 0 41.0 0.0 1.0 -0.24938157839935782]\n",
      " [2 1 33.0 0.0 0.0 -0.46238517646460475]\n",
      " [1 1 52.0 0.0 0.0 -0.367307445840325]\n",
      " [2 1 16.0 1.0 1.0 -0.2346408449692369]\n",
      " [2 1 20.0 0.0 0.0 -0.4744234420992035]\n",
      " [2 1 9.0 4.0 2.0 -0.015740953531941576]\n",
      " [2 1 29.69911764705882 0.0 0.0 -0.47319504764669346]\n",
      " [2 1 29.69911764705882 0.0 0.0 -0.4787631140210311]\n",
      " [2 1 29.69911764705882 0.0 0.0 -0.4774541368924364]\n",
      " [0 0 54.0 1.0 0.0 0.534825440083074]\n",
      " [2 1 26.0 0.0 0.0 -0.4774541368924364]\n",
      " [0 1 60.0 1.0 1.0 0.9239808026382658]\n",
      " [2 1 29.69911764705882 0.0 0.0 0.4777453893793979]\n",
      " [0 0 44.0 0.0 1.0 0.5069005946730529]\n",
      " [2 1 20.0 1.0 0.0 -0.47688023100422366]\n",
      " [2 1 29.69911764705882 3.0 1.0 -0.132110199522688]\n",
      " [1 1 16.0 0.0 0.0 -0.4262703795608086]\n",
      " [2 0 43.0 1.0 6.0 0.289146549581059]\n",
      " [2 1 17.0 0.0 0.0 -0.46238517646460475]\n",
      " [0 1 37.0 1.0 1.0 0.40027595619517853]\n",
      " [1 1 62.0 0.0 0.0 -0.4262703795608086]\n",
      " [2 1 8.0 4.0 1.0 -0.06020883271280627]\n",
      " [2 1 32.0 0.0 0.0 0.4777453893793979]\n",
      " [2 0 20.0 1.0 0.0 -0.4395370396479174]\n",
      " [1 0 28.0 0.0 0.0 -0.3771346014604056]\n",
      " [2 0 21.0 0.0 0.0 -0.4803197354712519]\n",
      " [2 1 37.0 2.0 0.0 -0.47688023100422366]\n",
      " [2 0 17.0 0.0 0.0 -0.34847271937887847]\n",
      " [2 0 29.69911764705882 0.0 0.0 -0.4803197354712519]\n",
      " [0 1 46.0 1.0 0.0 0.56971184253436]\n",
      " [2 1 29.69911764705882 0.0 0.0 -0.33586054785606706]\n",
      " [2 1 24.0 0.0 0.0 -0.4744234420992035]\n",
      " [0 1 29.0 1.0 0.0 0.6763364810122345]\n",
      " [0 0 56.0 0.0 1.0 1.0017784628201958]\n",
      " [1 1 31.0 1.0 1.0 0.09465141641067179]\n",
      " [2 1 29.69911764705882 0.0 0.0 -0.4803197354712519]\n",
      " [1 1 32.0 1.0 0.0 -0.12162855533831002]\n",
      " [2 1 33.0 1.0 1.0 -0.2292359093781926]\n",
      " [2 1 59.0 0.0 0.0 -0.49014689109133247]\n",
      " [0 0 58.0 0.0 0.0 -0.11081868415622134]\n",
      " [2 0 29.69911764705882 1.0 0.0 -0.31620623661590586]\n",
      " [1 0 3.0 1.0 2.0 0.18456989033440932]\n",
      " [2 1 29.69911764705882 0.0 0.0 -0.4774541368924364]\n",
      " [0 0 16.0 0.0 1.0 0.5069005946730529]\n",
      " [2 0 45.0 1.0 4.0 -0.08428536398200377]\n",
      " [0 0 43.0 0.0 1.0 3.5210523541350662]\n",
      " [0 0 30.0 0.0 0.0 1.4590694261516544]\n",
      " [2 1 28.5 0.0 0.0 -0.31620623661590586]\n",
      " [2 1 24.0 0.0 0.0 -0.4794195680164525]\n",
      " [1 1 30.0 0.0 0.0 -0.3771346014604056]\n",
      " [0 1 36.0 0.0 0.0 0.1559885909289669]\n",
      " [2 1 25.0 0.0 0.0 -0.4940777533393647]\n",
      " [2 0 29.69911764705882 0.0 2.0 -0.4803197354712519]\n",
      " [0 0 50.0 0.0 0.0 -0.06831623609937279]\n",
      " [2 0 0.75 2.0 1.0 -0.2541320254261048]\n",
      " [0 0 24.0 0.0 0.0 0.3403303069126868]\n",
      " [1 0 24.0 1.0 2.0 0.6448895830279767]\n",
      " [0 0 35.0 1.0 0.0 0.3893835369058811]\n",
      " [0 0 30.0 0.0 0.0 1.0674572746914426]\n",
      " [1 1 23.0 0.0 0.0 -0.3771346014604056]\n",
      " [2 1 29.69911764705882 0.0 0.0 -0.4774541368924364]\n",
      " [1 1 27.0 0.0 0.0 -0.12162855533831002]\n",
      " [1 0 55.0 0.0 0.0 -0.318171667739922]\n",
      " [0 0 35.0 1.0 0.0 0.4110032792700585]\n",
      " [2 1 29.69911764705882 0.0 0.0 -0.4978454848041036]\n",
      " [0 0 29.69911764705882 0.0 0.0 0.9239808026382658]\n",
      " [2 1 29.69911764705882 1.0 0.0 -0.24020891134357458]\n",
      " [1 0 23.0 0.0 0.0 -0.36157428325157]\n",
      " [2 0 29.69911764705882 0.0 0.0 -0.4806479624689626]\n",
      " [0 0 23.0 1.0 0.0 1.5937014581467586]\n",
      " [2 1 51.0 0.0 0.0 -0.4744234420992035]\n",
      " [1 0 33.0 0.0 2.0 -0.12162855533831002]\n",
      " [2 0 29.0 0.0 4.0 -0.21842603819610393]\n",
      " [2 1 29.69911764705882 0.0 0.0 -0.4774541368924364]\n",
      " [2 1 29.69911764705882 8.0 2.0 0.7343166991707101]\n",
      " [1 0 2.0 1.0 1.0 -0.12162855533831002]\n",
      " [1 0 14.0 1.0 0.0 -0.04161978514186184]\n",
      " [1 1 54.0 1.0 0.0 -0.12162855533831002]\n",
      " [2 0 15.0 0.0 0.0 -0.47483225177299887]\n",
      " [0 0 22.0 0.0 1.0 0.44834647062636473]\n",
      " [1 1 27.0 0.0 0.0 -0.3771346014604056]\n",
      " [2 1 29.69911764705882 0.0 0.0 -0.4774541368924364]\n",
      " [0 1 29.69911764705882 0.0 0.0 0.1456700775278823]\n",
      " [1 0 28.0 1.0 0.0 -0.16093717781863243]\n",
      " [2 1 39.0 0.0 0.0 -0.47688023100422366]\n",
      " [1 1 2.0 1.0 1.0 -0.12162855533831002]\n",
      " [2 1 24.0 1.0 0.0 -0.31620623661590586]\n",
      " [2 1 32.0 0.0 0.0 -0.4774541368924364]\n",
      " [2 1 45.5 0.0 0.0 -0.4906382488723365]\n",
      " [1 0 8.0 0.0 2.0 -0.11671497752826972]\n",
      " [2 1 26.0 1.0 2.0 -0.22825319381618453]\n",
      " [0 0 29.0 0.0 0.0 3.5210523541350662]\n",
      " [1 0 45.0 1.0 1.0 -0.11671497752826972]\n",
      " [2 0 36.0 1.0 0.0 -0.2906556320036964]\n",
      " [0 1 29.69911764705882 0.0 0.0 -0.12162855533831002]\n",
      " [2 0 4.0 0.0 2.0 -0.1997544425179508]\n",
      " [1 1 16.0 0.0 0.0 -0.12162855533831002]\n",
      " [0 1 58.0 0.0 0.0 -0.0489076037497136]\n",
      " [2 1 40.5 0.0 2.0 -0.3476531346001638]\n",
      " [2 1 25.0 0.0 0.0 -0.48228516659526804]\n",
      " [2 1 29.69911764705882 0.0 0.0 -0.4774541368924364]\n",
      " [2 1 51.0 0.0 0.0 -0.493995205232156]\n",
      " [1 1 29.69911764705882 0.0 0.0 -0.6326406475825012]\n",
      " [2 0 17.0 4.0 2.0 -0.47688023100422366]\n",
      " [2 1 29.69911764705882 0.0 0.0 -0.49604318446338086]\n",
      " [2 1 40.0 1.0 1.0 -0.3279988233600026]\n",
      " [2 1 25.0 0.0 0.0 -0.6326406475825012]\n",
      " [0 1 47.0 0.0 0.0 -0.12973595872487653]\n",
      " [0 1 29.69911764705882 0.0 0.0 -0.11081868415622134]\n",
      " [1 1 44.0 1.0 0.0 -0.12162855533831002]\n",
      " [0 0 23.0 3.0 2.0 4.536443208579894]\n",
      " [1 1 18.0 0.0 0.0 -0.4066160683206474]\n",
      " [1 1 29.0 1.0 0.0 -0.219900111539116]\n",
      " [2 1 12.0 1.0 0.0 -0.411692776913981]\n",
      " [2 1 11.0 0.0 0.0 -0.2633852751579726]\n",
      " [2 0 22.0 0.0 0.0 -0.4803197354712519]\n",
      " [1 1 19.0 0.0 0.0 -0.4262703795608086]\n",
      " [2 1 22.0 1.0 0.0 -0.49014689109133247]\n",
      " [2 1 33.0 0.0 0.0 -0.4774541368924364]\n",
      " [0 1 56.0 0.0 0.0 -0.11081868415622134]\n",
      " [1 1 1.0 0.0 2.0 0.09465141641067179]\n",
      " [2 1 22.0 0.0 0.0 -0.4794195680164525]\n",
      " [2 1 29.69911764705882 0.0 0.0 -0.49055570076512783]\n",
      " [2 1 29.69911764705882 0.0 0.0 -0.4803197354712519]\n",
      " [2 1 7.0 4.0 1.0 -0.06020883271280627]\n",
      " [2 0 4.0 0.0 1.0 -0.36894464996663046]\n",
      " [2 1 70.5 0.0 0.0 -0.4803197354712519]\n",
      " [1 1 18.0 0.0 0.0 -0.3771346014604056]\n",
      " [2 1 20.0 1.0 1.0 -0.3232483763332556]\n",
      " [1 1 24.0 2.0 0.0 0.8119512285693469]\n",
      " [2 1 29.69911764705882 0.0 0.0 -0.4906382488723365]\n",
      " [1 0 34.0 0.0 0.0 -0.4262703795608086]\n",
      " [2 0 29.69911764705882 0.0 0.0 -0.4803197354712519]\n",
      " [0 0 31.0 0.0 2.0 2.607700787355783]\n",
      " [2 1 30.0 0.0 0.0 -0.4774541368924364]\n",
      " [1 1 18.0 0.0 0.0 -0.4066160683206474]\n",
      " [2 0 9.0 3.0 2.0 -0.08428536398200377]\n",
      " [0 0 39.0 1.0 1.0 0.9328252426963384]\n",
      " [0 0 33.0 1.0 0.0 0.4110032792700585]\n",
      " [0 1 70.0 1.0 1.0 0.762815450468944]\n",
      " [0 0 24.0 0.0 0.0 0.7294031213606698]\n",
      " [0 0 58.0 0.0 1.0 2.3835590911107367]\n",
      " [2 1 21.0 0.0 0.0 -0.4782717562400271]\n",
      " [0 0 17.0 1.0 0.0 1.5077138464710533]\n",
      " [2 0 28.0 1.0 1.0 -0.34961856572417993]\n",
      " [0 0 24.0 0.0 0.0 1.0017784628201958]\n",
      " [2 1 29.69911764705882 0.0 0.0 -0.4906382488723365]\n",
      " [2 1 29.69911764705882 1.0 0.0 -0.3279988233600026]\n",
      " [2 1 42.0 0.0 0.0 -0.46238517646460475]\n",
      " [2 1 18.0 1.0 0.0 -0.5049701726286621]\n",
      " [2 0 2.0 0.0 1.0 -0.3911382982190204]\n",
      " [1 0 34.0 0.0 0.0 -0.3771346014604056]\n",
      " [2 1 3.0 4.0 2.0 -0.015740953531941576]\n",
      " [0 0 58.0 0.0 0.0 2.24712475877491]\n",
      " [2 1 32.0 0.0 0.0 -0.4803197354712519]\n",
      " [2 1 31.0 0.0 0.0 -0.47688023100422366]\n",
      " [2 1 29.69911764705882 0.0 0.0 -0.4798283776902479]\n",
      " [1 0 27.0 1.0 0.0 -0.36026530612297525]\n",
      " [2 1 11.0 5.0 2.0 0.289146549581059]\n",
      " [1 1 23.0 0.0 0.0 -0.3771346014604056]\n",
      " [0 1 40.0 0.0 0.0 -0.6326406475825012]\n",
      " [2 1 29.69911764705882 0.0 0.0 -0.49055570076512783]\n",
      " [2 0 28.0 0.0 0.0 -0.4774541368924364]\n",
      " [1 0 28.0 0.0 0.0 -0.3771346014604056]\n",
      " [2 1 29.69911764705882 1.0 0.0 -0.24020891134357458]\n",
      " [2 1 19.0 0.0 0.0 -0.43274057882106964]\n",
      " [2 0 30.0 1.0 1.0 -0.15798903113260826]\n",
      " [2 1 20.0 0.0 0.0 -0.4782717562400271]\n",
      " [2 1 28.0 0.0 0.0 0.4777453893793979]\n",
      " [2 1 36.0 0.0 0.0 -0.6326406475825012]\n",
      " [2 1 29.69911764705882 0.0 0.0 -0.4744234420992035]\n",
      " [0 0 24.0 3.0 2.0 4.536443208579894]\n",
      " [2 1 28.5 0.0 0.0 -0.49055570076512783]\n",
      " [2 0 24.0 0.0 3.0 -0.2541320254261048]\n",
      " [1 1 42.0 0.0 0.0 -0.3771346014604056]\n",
      " [0 1 54.0 0.0 1.0 0.8863919323914573]\n",
      " [2 1 25.0 0.0 0.0 -0.48048286625454517]\n",
      " [2 1 7.0 4.0 1.0 0.1473898297613964]\n",
      " [2 1 25.0 1.0 0.0 -0.28279390750763184]\n",
      " [2 0 27.0 0.0 1.0 -0.3874531148614902]\n",
      " [2 0 24.0 1.0 0.0 -0.32111981442594617]\n",
      " [2 1 29.69911764705882 0.0 0.0 -0.49014689109133247]\n",
      " [1 0 28.0 0.0 0.0 -0.384013610394462]\n",
      " [2 1 19.0 0.0 0.0 -0.3476531346001638]\n",
      " [2 1 22.0 0.0 0.0 -0.49014689109133247]\n",
      " [2 0 29.69911764705882 0.0 0.0 -0.4906382488723365]\n",
      " [2 0 29.69911764705882 8.0 2.0 0.7343166991707101]\n",
      " [0 1 42.0 0.0 0.0 -0.11597794085676365]\n",
      " [1 1 50.0 0.0 0.0 -0.3771346014604056]\n",
      " [1 1 3.0 1.0 1.0 -0.2641223118294787]\n",
      " [0 1 29.69911764705882 0.0 0.0 3.8392065173351755]\n",
      " [2 0 18.0 2.0 0.0 -0.2788630452595996]\n",
      " [2 1 18.0 1.0 1.0 -0.4782717562400271]\n",
      " [0 1 44.0 2.0 0.0 1.1362473640320068]\n",
      " [0 1 29.69911764705882 0.0 0.0 -0.04301131037766522]\n",
      " [0 1 29.69911764705882 0.0 0.0 0.20070214900033362]\n",
      " [2 1 29.69911764705882 1.0 0.0 -0.15798903113260826]\n",
      " [2 1 16.0 0.0 0.0 -0.4798283776902479]\n",
      " [2 1 29.69911764705882 0.0 0.0 -0.4889184966388224]\n",
      " [2 1 22.0 0.0 0.0 -0.4774541368924364]\n",
      " [1 0 4.0 1.0 1.0 -0.1805914890587936]\n",
      " [1 1 29.69911764705882 0.0 0.0 -0.3771346014604056]\n",
      " [2 1 24.0 0.0 0.0 -0.49227545299864195]\n",
      " [1 0 30.0 0.0 0.0 -0.38990990376651036]\n",
      " [2 0 29.0 0.0 2.0 -0.3329949492772516]\n",
      " [2 1 24.0 0.0 0.0 -0.4459246908009698]\n",
      " [0 0 45.0 1.0 1.0 2.607700787355783]\n",
      " [1 0 32.0 0.0 0.0 -0.3771346014604056]\n",
      " [2 1 21.0 0.0 0.0 -0.47688023100422366]\n",
      " [0 1 35.0 0.0 0.0 9.436836906640293]\n",
      " [2 0 29.69911764705882 8.0 2.0 0.7343166991707101]\n",
      " [2 1 29.69911764705882 2.0 0.0 -0.17567791124875332]\n",
      " [0 1 36.0 0.0 1.0 9.436836906640293]\n",
      " [2 0 41.0 0.0 5.0 0.1473898297613964]\n",
      " [2 0 23.0 0.0 0.0 -0.4842505977192841]\n",
      " [2 1 34.0 1.0 1.0 -0.34961856572417993]\n",
      " [1 0 29.69911764705882 0.0 0.0 0.015951623342818372]\n",
      " [2 1 29.69911764705882 0.0 0.0 -0.15798903113260826]\n",
      " [2 0 15.0 0.0 0.0 -0.4906382488723365]\n",
      " [2 1 29.69911764705882 0.0 0.0 -0.4744234420992035]\n",
      " [2 0 18.0 0.0 0.0 -0.4798283776902479]\n",
      " [2 1 30.0 0.0 0.0 -0.4744234420992035]\n",
      " [1 1 32.0 2.0 0.0 0.8119512285693469]\n",
      " [2 1 4.0 4.0 1.0 -0.06020883271280627]\n",
      " [2 1 2.0 4.0 1.0 -0.06020883271280627]\n",
      " [2 1 29.69911764705882 0.0 0.0 -0.4744234420992035]\n",
      " [2 1 29.69911764705882 2.0 0.0 -0.2065509033447985]\n",
      " [0 0 48.0 0.0 0.0 -0.1230200805741134]\n",
      " [2 1 31.0 0.0 0.0 -0.4803197354712519]\n",
      " [0 1 47.0 0.0 0.0 0.03601474425677495]\n",
      " [2 0 26.0 1.0 0.0 -0.31620623661590586]\n",
      " [2 1 9.0 5.0 2.0 0.289146549581059]\n",
      " [2 1 19.0 0.0 0.0 -0.4744234420992035]\n",
      " [2 1 29.69911764705882 0.0 0.0 -0.4744234420992035]\n",
      " [2 1 22.0 0.0 0.0 -0.4488728374869939]\n",
      " [2 1 29.69911764705882 0.0 0.0 -0.4906382488723365]\n",
      " [1 1 28.0 0.0 1.0 0.015951623342818372]\n",
      " [1 0 24.0 2.0 3.0 -0.2641223118294787]\n",
      " [2 1 17.0 0.0 0.0 -0.46238517646460475]\n",
      " [2 1 29.69911764705882 1.0 0.0 -0.3279988233600026]\n",
      " [2 0 29.69911764705882 3.0 1.0 -0.132110199522688]\n",
      " [2 1 21.0 0.0 0.0 -0.4744234420992035]\n",
      " [0 1 51.0 0.0 0.0 -0.11081868415622134]\n",
      " [2 0 3.0 3.0 1.0 -0.21842603819610393]\n",
      " [2 0 0.75 2.0 1.0 -0.2541320254261048]\n",
      " [2 1 29.69911764705882 0.0 0.0 -0.49055570076512783]\n",
      " [2 1 34.0 0.0 0.0 -0.4744234420992035]\n",
      " [1 0 18.0 0.0 1.0 -0.1805914890587936]\n",
      " [0 0 44.0 0.0 0.0 -0.08780741655624062]\n",
      " [2 1 29.69911764705882 0.0 0.0 -0.3476531346001638]\n",
      " [2 1 29.69911764705882 0.0 0.0 -0.4459246908009698]\n",
      " [2 0 37.0 0.0 0.0 -0.4442049385674557]\n",
      " [1 1 21.0 1.0 0.0 -0.4066160683206474]\n",
      " [0 1 36.0 1.0 0.0 0.9171017937042092]\n",
      " [2 1 32.0 0.0 0.0 -0.47688023100422366]\n",
      " [2 0 29.69911764705882 1.0 2.0 -0.17174704900072107]\n",
      " [2 1 26.0 0.0 0.0 -0.4798283776902479]\n",
      " [0 1 80.0 0.0 0.0 -0.04301131037766522]\n",
      " [2 1 55.5 0.0 0.0 -0.4744234420992035]\n",
      " [1 1 60.0 1.0 1.0 0.13387749078378555]\n",
      " [2 1 29.69911764705882 0.0 0.0 -0.4806479624689626]\n",
      " [2 1 18.0 0.0 0.0 -0.4798283776902479]\n",
      " [2 0 14.5 1.0 0.0 -0.34855330205496315]\n",
      " [1 1 19.0 0.0 0.0 -0.4262703795608086]\n",
      " [1 0 4.0 2.0 1.0 0.13387749078378555]\n",
      " [2 1 33.0 0.0 0.0 -0.46254830724789814]\n",
      " [2 1 21.0 0.0 0.0 -0.4806479624689626]\n",
      " [2 0 10.0 0.0 2.0 -0.15798903113260826]\n",
      " [1 1 47.0 0.0 0.0 -0.3378259789800832]\n",
      " [2 0 2.0 4.0 2.0 -0.017952063546459725]\n",
      " [1 0 29.0 1.0 0.0 -0.12162855533831002]\n",
      " [0 0 22.0 1.0 0.0 0.6763364810122345]\n",
      " [2 1 28.0 1.0 0.0 -0.32111981442594617]\n",
      " [0 1 29.69911764705882 0.0 0.0 -0.0489076037497136]\n",
      " [2 1 26.0 0.0 0.0 -0.2633852751579726]\n",
      " [2 1 33.0 0.0 0.0 -0.4459246908009698]\n",
      " [1 0 27.0 0.0 0.0 -0.4262703795608086]\n",
      " [2 0 27.0 0.0 2.0 -0.41382330425241454]\n",
      " [1 1 34.0 0.0 0.0 -0.3771346014604056]\n",
      " [2 1 29.69911764705882 0.0 0.0 -0.49055570076512783]\n",
      " [0 1 30.0 0.0 0.0 -0.08723351066802792]\n",
      " [2 1 30.0 1.0 0.0 -0.31620623661590586]\n",
      " [1 0 29.69911764705882 0.0 0.0 -0.38990990376651036]\n",
      " [2 1 29.69911764705882 0.0 0.0 -0.4798283776902479]\n",
      " [0 0 53.0 2.0 0.0 0.3791475716120052]\n",
      " [2 1 32.0 0.0 0.0 -0.47688023100422366]\n",
      " [1 1 52.0 0.0 0.0 -0.3771346014604056]\n",
      " [0 1 52.0 1.0 1.0 0.9328252426963384]\n",
      " [2 0 39.0 1.0 5.0 -0.017952063546459725]\n",
      " [0 0 2.0 1.0 2.0 2.3459702208639284]\n",
      " [2 1 44.0 0.0 0.0 -0.47688023100422366]\n",
      " [1 1 51.0 0.0 0.0 -0.3864703992994822]\n",
      " [1 1 39.0 0.0 0.0 -0.12162855533831002]\n",
      " [0 1 46.0 0.0 0.0 0.9239808026382658]\n",
      " [0 1 17.0 0.0 2.0 1.5466942419536653]\n",
      " [2 1 30.0 0.0 0.0 -0.4744234420992035]\n",
      " [2 0 9.0 2.0 2.0 0.04297630129804002]\n",
      " [2 1 27.0 0.0 0.0 -0.4794195680164525]\n",
      " [2 1 21.0 0.0 0.0 -0.46238517646460475]\n",
      " [2 1 29.69911764705882 0.0 0.0 0.4777453893793979]\n",
      " [2 1 26.0 0.0 0.0 -0.4774541368924364]\n",
      " [2 1 3.0 1.0 1.0 -0.32013709886393815]\n",
      " [1 1 48.0 0.0 0.0 -0.3771346014604056]\n",
      " [0 0 36.0 0.0 0.0 2.0331384451476544]\n",
      " [2 0 29.69911764705882 1.0 0.0 -0.3279988233600026]\n",
      " [1 0 32.5 0.0 0.0 -0.3771346014604056]\n",
      " [0 0 33.0 0.0 0.0 1.0674572746914426]\n",
      " [1 0 22.0 1.0 2.0 0.18456989033440932]\n",
      " [2 1 19.0 0.0 0.0 -0.4999740467114131]\n",
      " [2 1 74.0 0.0 0.0 -0.4798283776902479]\n",
      " [2 1 42.0 0.0 1.0 -0.46746188505793845]\n",
      " [0 0 40.0 0.0 0.0 2.3835590911107367]\n",
      " [2 0 35.0 1.0 1.0 -0.2346408449692369]\n",
      " [2 0 24.0 0.0 0.0 -0.45869999310707454]\n",
      " [2 1 39.0 0.0 0.0 -0.47688023100422366]\n",
      " [1 1 32.5 1.0 0.0 -0.04161978514186184]\n",
      " [1 1 1.0 2.0 1.0 0.13387749078378555]\n",
      " [2 1 34.0 0.0 0.0 -0.5049701726286621]\n",
      " [0 1 64.0 1.0 4.0 4.536443208579894]\n",
      " [2 0 25.0 0.0 0.0 -0.4798283776902479]\n",
      " [2 0 29.69911764705882 0.0 0.0 -0.4744234420992035]\n",
      " [2 1 1.0 1.0 2.0 -0.22825319381618453]\n",
      " [2 1 45.0 0.0 0.0 -0.4955518266823768]\n",
      " [1 1 31.0 1.0 1.0 -0.11671497752826972]\n",
      " [2 0 21.0 1.0 0.0 -0.4395370396479174]\n",
      " [2 1 25.0 0.0 0.0 -0.4774541368924364]\n",
      " [0 0 15.0 0.0 1.0 3.5210523541350662]\n",
      " [2 1 26.0 0.0 0.0 -0.4776172676757297]\n",
      " [1 1 30.0 0.0 0.0 -0.4262703795608086]\n",
      " [0 0 24.0 0.0 0.0 0.7294031213606698]\n",
      " [1 1 35.0 0.0 0.0 -0.4262703795608086]\n",
      " [1 1 70.0 0.0 0.0 -0.4262703795608086]\n",
      " [0 1 29.69911764705882 0.0 0.0 -0.6326406475825012]\n",
      " [2 1 21.0 0.0 0.0 -0.31620623661590586]\n",
      " [2 0 18.0 0.0 1.0 -0.4488728374869939]\n",
      " [2 0 29.69911764705882 0.0 0.0 -0.47270368986568945]\n",
      " [2 1 1.0 5.0 2.0 0.289146549581059]\n",
      " [2 0 29.69911764705882 8.0 2.0 0.7343166991707101]\n",
      " [2 1 26.0 0.0 0.0 0.4777453893793979]\n",
      " [2 1 25.0 1.0 0.0 -0.4798283776902479]\n",
      " [1 1 29.69911764705882 0.0 0.0 -0.6326406475825012]\n",
      " [2 1 20.0 0.0 0.0 -0.4459246908009698]\n",
      " [0 0 54.0 1.0 0.0 0.9056374339578233]\n",
      " [2 1 22.0 0.0 0.0 -0.4744234420992035]\n",
      " [1 1 59.0 0.0 0.0 -0.367307445840325]\n",
      " [1 0 54.0 1.0 3.0 -0.1805914890587936]\n",
      " [0 1 27.0 0.0 0.0 -0.03318415475758463]\n",
      " [0 1 31.0 1.0 0.0 0.3893835369058811]\n",
      " [0 1 22.0 0.0 0.0 2.0331384451476544]\n",
      " [0 1 33.0 0.0 0.0 -0.5343690913816952]\n",
      " [2 1 6.0 0.0 1.0 -0.3874531148614902]\n",
      " [2 0 5.0 4.0 2.0 -0.015740953531941576]\n",
      " [0 1 39.0 0.0 0.0 -0.6326406475825012]\n",
      " [2 1 24.5 0.0 0.0 -0.4744234420992035]\n",
      " [1 1 54.0 0.0 0.0 -0.3574802902202444]\n",
      " [2 1 29.69911764705882 0.0 0.0 -0.4842505977192841]\n",
      " [2 1 29.69911764705882 0.0 0.0 -0.4774541368924364]\n",
      " [2 1 30.0 0.0 0.0 -0.49055570076512783]\n",
      " [2 0 29.69911764705882 0.0 0.0 -0.47778039845902304]\n",
      " [0 0 35.0 0.0 0.0 9.436836906640293]\n",
      " [0 0 21.0 0.0 0.0 0.8995760443713574]\n",
      " [0 1 32.0 0.0 0.0 -0.03318415475758463]\n",
      " [2 1 16.0 0.0 0.0 -0.4459246908009698]\n",
      " [2 0 22.0 0.0 0.0 -0.49014689109133247]\n",
      " [2 1 29.69911764705882 0.0 0.0 -0.4774541368924364]\n",
      " [0 1 38.0 1.0 0.0 1.1362473640320068]\n",
      " [2 1 29.69911764705882 8.0 2.0 0.7343166991707101]\n",
      " [1 1 25.0 1.0 0.0 -0.12162855533831002]\n",
      " [1 0 33.0 1.0 2.0 -0.08723351066802792]\n",
      " [2 0 29.69911764705882 1.0 0.0 -0.31620623661590586]\n",
      " [0 1 18.0 1.0 0.0 1.5077138464710533]\n",
      " [2 1 29.69911764705882 1.0 0.0 -0.31620623661590586]\n",
      " [2 1 29.69911764705882 0.0 0.0 -0.4774541368924364]\n",
      " [2 1 2.0 4.0 1.0 0.1473898297613964]\n",
      " [2 1 0.42 0.0 1.0 -0.4652507750434203]\n",
      " [1 1 26.0 0.0 0.0 -0.4262703795608086]\n",
      " [2 1 41.0 0.0 0.0 -0.49260367999635263]\n",
      " [0 1 48.0 1.0 0.0 0.8754189304260755]\n",
      " [1 0 48.0 1.0 2.0 0.6448895830279767]\n",
      " [0 0 48.0 1.0 0.0 0.1456700775278823]\n",
      " [2 1 4.0 4.0 2.0 -0.017952063546459725]\n",
      " [0 0 39.0 1.0 0.0 0.4660353507425098]\n",
      " [2 0 33.0 3.0 0.0 -0.32111981442594617]\n",
      " [1 1 29.0 0.0 0.0 -0.4262703795608086]\n",
      " [0 1 49.0 1.0 1.0 1.5466942419536653]\n",
      " [2 1 29.69911764705882 8.0 2.0 0.7343166991707101]\n",
      " [2 1 29.69911764705882 0.0 0.0 -0.49055570076512783]\n",
      " [0 1 42.0 1.0 0.0 0.3893835369058811]\n",
      " [0 0 36.0 0.0 2.0 0.762815450468944]\n",
      " [0 1 61.0 0.0 0.0 0.02577877896289897]\n",
      " [2 0 18.0 0.0 0.0 -0.4999740467114131]\n",
      " [2 0 18.0 0.0 0.0 -0.48531586138850086]\n",
      " [1 1 0.67 1.0 1.0 -0.3476531346001638]\n",
      " [2 1 32.0 0.0 0.0 0.4777453893793979]\n",
      " [2 1 29.69911764705882 0.0 0.0 -0.4744234420992035]\n",
      " [2 1 29.69911764705882 0.0 0.0 -0.4744234420992035]\n",
      " [2 0 29.69911764705882 1.0 0.0 -0.34855330205496315]\n",
      " [2 1 16.0 0.0 0.0 -0.4744234420992035]\n",
      " [0 1 31.0 1.0 0.0 0.48765509310668714]\n",
      " [0 1 48.0 0.0 0.0 -0.11081868415622134]\n",
      " [2 1 22.0 0.0 0.0 -0.4906382488723365]\n",
      " [2 0 13.0 0.0 0.0 -0.49055570076512783]\n",
      " [2 1 32.0 1.0 0.0 -0.32111981442594617]\n",
      " [2 1 28.0 2.0 0.0 -0.47688023100422366]\n",
      " [1 1 46.0 0.0 0.0 -0.12162855533831002]\n",
      " [2 1 28.0 0.0 0.0 -0.4794195680164525]\n",
      " [1 1 42.0 1.0 0.0 -0.10197424409814881]\n",
      " [2 1 35.0 0.0 0.0 -0.4744234420992035]\n",
      " [2 0 2.0 3.0 2.0 -0.08428536398200377]\n",
      " [2 0 31.0 0.0 0.0 -0.46197636679080945]\n",
      " [2 0 29.69911764705882 1.0 0.0 -0.3279988233600026]\n",
      " [2 1 29.69911764705882 0.0 0.0 -0.4774541368924364]\n",
      " [1 0 19.0 1.0 0.0 -0.12162855533831002]\n",
      " [2 1 20.0 0.0 0.0 -0.46238517646460475]\n",
      " [2 1 14.0 5.0 2.0 0.289146549581059]\n",
      " [1 0 34.0 0.0 1.0 -0.1805914890587936]\n",
      " [2 0 29.69911764705882 0.0 0.0 -0.4805654143617539]\n",
      " [2 0 29.69911764705882 0.0 0.0 -0.4803197354712519]\n",
      " [2 1 51.0 0.0 0.0 -0.4803197354712519]\n",
      " [2 0 29.69911764705882 0.0 0.0 -0.48269397626906335]\n",
      " [2 0 29.69911764705882 0.0 0.0 -0.4803197354712519]\n",
      " [2 0 29.69911764705882 0.0 0.0 -0.4803197354712519]\n",
      " [2 1 28.0 0.0 0.0 -0.4459246908009698]\n",
      " [1 1 25.0 0.0 0.0 -0.3771346014604056]\n",
      " [0 1 19.0 3.0 2.0 4.536443208579894]\n",
      " [2 1 35.0 0.0 0.0 -0.4774541368924364]\n",
      " [0 0 35.0 1.0 0.0 1.0080029831899546]\n",
      " [2 1 9.0 1.0 1.0 -0.32013709886393815]\n",
      " [2 1 20.0 0.0 0.0 -0.5537777237313544]\n",
      " [1 1 42.0 0.0 0.0 -0.3771346014604056]\n",
      " [1 1 30.0 0.0 0.0 -0.3771346014604056]\n",
      " [1 1 29.69911764705882 0.0 0.0 -0.6326406475825012]\n",
      " [2 1 21.0 0.0 0.0 -0.4794195680164525]\n",
      " [2 1 47.0 0.0 0.0 -0.49014689109133247]\n",
      " [0 0 25.0 1.0 2.0 2.3459702208639284]\n",
      " [2 1 16.0 0.0 0.0 -0.45149275717530746]\n",
      " [0 1 45.0 1.0 0.0 1.0080029831899546]\n",
      " [2 1 38.0 0.0 0.0 -0.46238517646460475]\n",
      " [0 1 56.0 0.0 0.0 0.06508740144322137]\n",
      " [2 0 29.69911764705882 1.0 1.0 -0.19320366058160504]\n",
      " [0 1 31.0 0.0 0.0 0.3598195219384307]\n",
      " [0 0 30.0 0.0 0.0 1.205037453372571]\n",
      " [0 1 29.69911764705882 0.0 0.0 -0.08780741655624062]\n",
      " [2 0 14.0 0.0 0.0 -0.4782717562400271]\n",
      " [2 0 16.0 0.0 0.0 -0.4806479624689626]\n",
      " [2 0 40.0 1.0 0.0 -0.4464160485819738]\n",
      " [0 1 55.0 0.0 0.0 -0.03318415475758463]\n",
      " [2 1 19.0 0.0 0.0 -0.4798283776902479]\n",
      " [0 1 45.0 0.0 0.0 -0.11081868415622134]\n",
      " [0 0 36.0 1.0 2.0 1.7258767012368426]\n",
      " [2 0 27.0 0.0 0.0 -0.47688023100422366]\n",
      " [0 0 49.0 1.0 0.0 0.8754189304260755]\n",
      " [0 0 41.0 0.0 0.0 2.01086421421918]\n",
      " [0 1 19.0 1.0 0.0 0.4110032792700585]\n",
      " [2 1 33.0 0.0 0.0 -0.4798283776902479]\n",
      " [0 1 27.0 1.0 0.0 0.4110032792700585]\n",
      " [0 1 29.69911764705882 0.0 0.0 -0.08780741655624062]\n",
      " [0 1 35.0 0.0 0.0 -0.11597794085676365]\n",
      " [2 0 29.0 1.0 1.0 -0.42700741623231464]\n",
      " [1 0 30.0 3.0 0.0 -0.219900111539116]\n",
      " [2 1 34.0 0.0 0.0 -0.4744234420992035]\n",
      " [2 1 29.0 0.0 0.0 -0.4774541368924364]\n",
      " [0 0 19.0 0.0 0.0 -0.04301131037766522]\n",
      " [0 0 35.0 0.0 0.0 2.0331384451476544]\n",
      " [2 1 29.69911764705882 8.0 2.0 0.7343166991707101]\n",
      " [1 0 40.0 0.0 0.0 -0.3230852455499623]\n",
      " [0 1 62.0 0.0 0.0 -0.11081868415622134]\n",
      " [2 0 25.0 1.0 0.0 -0.47688023100422366]\n",
      " [2 1 26.0 0.0 0.0 -0.4744234420992035]\n",
      " [2 0 18.0 0.0 1.0 -0.34855330205496315]\n",
      " [1 1 34.0 1.0 0.0 -0.219900111539116]\n",
      " [2 1 48.0 0.0 0.0 -0.4782717562400271]\n",
      " [2 1 28.0 0.0 0.0 -0.4774541368924364]\n",
      " [2 1 24.0 2.0 0.0 -0.15798903113260826]\n",
      " [1 0 17.0 0.0 0.0 -0.39678891270056676]\n",
      " [0 0 38.0 1.0 0.0 0.7683835168432815]\n",
      " [2 1 29.69911764705882 0.0 0.0 -0.49055570076512783]\n",
      " [2 1 40.0 0.0 0.0 -0.4774541368924364]\n",
      " [2 1 22.0 0.0 0.0 -0.4557518464210504]\n",
      " [2 0 2.0 0.0 1.0 -0.42700741623231464]\n",
      " [0 1 28.0 1.0 0.0 0.9823698304705366]\n",
      " [2 1 18.0 0.0 0.0 -0.4803197354712519]\n",
      " [2 1 28.0 0.0 0.0 -0.1899272868978702]\n",
      " [1 0 19.0 0.0 0.0 -0.12162855533831002]\n",
      " [2 1 29.69911764705882 0.0 0.0 -0.4744234420992035]\n",
      " [0 0 60.0 1.0 0.0 0.846346273239629]\n",
      " [2 1 20.0 0.0 0.0 -0.4782717562400271]\n",
      " [0 1 45.0 0.0 0.0 0.06508740144322137]\n",
      " [2 0 29.69911764705882 0.0 0.0 -0.4744234420992035]\n",
      " [1 0 24.0 0.0 0.0 -0.3771346014604056]\n",
      " [2 1 29.69911764705882 0.0 0.0 -0.4803197354712519]\n",
      " [2 0 29.69911764705882 1.0 0.0 -0.3279988233600026]\n",
      " [2 1 39.0 1.0 5.0 -0.017952063546459725]\n",
      " [2 0 26.0 0.0 0.0 -0.4782717562400271]\n",
      " [1 0 24.0 2.0 1.0 -0.10197424409814881]\n",
      " [1 0 36.0 0.0 0.0 -0.3771346014604056]\n",
      " [0 1 37.0 0.0 1.0 -0.0489076037497136]\n",
      " [0 0 29.69911764705882 0.0 1.0 0.44834647062636473]\n",
      " [1 1 28.0 0.0 0.0 -0.4262703795608086]\n",
      " [2 1 19.0 0.0 0.0 -0.4774541368924364]\n",
      " [2 1 43.0 0.0 0.0 -0.5058703400834614]\n",
      " [0 1 25.0 1.0 0.0 1.1574582967223885]\n",
      " [2 1 47.0 0.0 0.0 -0.4557518464210504]\n",
      " [0 0 16.0 0.0 0.0 1.0674572746914426]\n",
      " [1 1 0.83 1.0 1.0 -0.2641223118294787]\n",
      " [2 1 22.0 0.0 0.0 -0.49260367999635263]\n",
      " [2 1 19.0 0.0 0.0 -0.4774541368924364]\n",
      " [1 1 28.0 0.0 0.0 -0.367307445840325]\n",
      " [2 1 14.0 4.0 1.0 0.1473898297613964]\n",
      " [2 1 36.0 0.0 0.0 -0.4774541368924364]\n",
      " [0 1 29.0 0.0 0.0 -0.04301131037766522]\n",
      " [2 1 42.0 0.0 0.0 -0.48228516659526804]\n",
      " [0 1 29.69911764705882 0.0 0.0 0.3893835369058811]\n",
      " [0 1 27.0 0.0 0.0 0.8754189304260755]\n",
      " [2 1 29.0 0.0 0.0 -0.4803197354712519]\n",
      " [1 0 5.0 1.0 2.0 -0.08723351066802792]\n",
      " [2 0 22.0 0.0 0.0 -0.43929136075741543]\n",
      " [2 1 29.69911764705882 0.0 0.0 -0.4803197354712519]\n",
      " [1 0 30.0 0.0 0.0 -0.3771346014604056]\n",
      " [0 1 62.0 0.0 0.0 -0.11081868415622134]\n",
      " [1 1 34.0 0.0 0.0 -0.3771346014604056]\n",
      " [2 1 28.0 0.0 0.0 -0.4774541368924364]\n",
      " [2 1 29.69911764705882 0.0 0.0 -0.4803197354712519]\n",
      " [2 1 44.0 0.0 1.0 -0.31620623661590586]\n",
      " [2 0 45.0 0.0 0.0 -0.4803197354712519]\n",
      " [1 1 19.0 0.0 0.0 -0.3771346014604056]\n",
      " [1 1 18.0 0.0 0.0 0.8119512285693469]\n",
      " [2 1 31.0 0.0 0.0 -0.4798283776902479]\n",
      " [1 1 29.69911764705882 0.0 0.0 -0.6326406475825012]\n",
      " [2 1 21.0 0.0 0.0 -0.49014689109133247]\n",
      " [1 1 25.0 0.0 0.0 -0.3771346014604056]\n",
      " [2 1 32.0 0.0 0.0 -0.46828146983665314]\n",
      " [1 1 30.0 1.0 0.0 -0.16093717781863243]\n",
      " [2 1 40.0 0.0 0.0 -0.4906382488723365]\n",
      " [2 1 33.0 0.0 0.0 -0.4774541368924364]\n",
      " [2 1 36.0 0.0 0.0 -0.48531586138850086]\n",
      " [0 0 47.0 1.0 1.0 0.40027595619517853]\n",
      " [1 1 34.0 1.0 0.0 -0.12162855533831002]\n",
      " [2 1 19.0 0.0 0.0 -0.4744234420992035]\n",
      " [2 1 29.69911764705882 0.0 0.0 -0.4744234420992035]\n",
      " [1 0 50.0 0.0 0.0 -0.4262703795608086]\n",
      " [2 0 29.69911764705882 2.0 0.0 -0.17567791124875332]\n",
      " [2 1 29.69911764705882 1.0 0.0 -0.4803197354712519]\n",
      " [1 1 29.69911764705882 0.0 0.0 -0.6326406475825012]\n",
      " [2 1 29.69911764705882 0.0 0.0 -0.4744234420992035]\n",
      " [2 1 35.0 0.0 0.0 -0.4744234420992035]\n",
      " [1 1 35.0 0.0 0.0 -0.12162855533831002]\n",
      " [0 0 18.0 1.0 0.0 3.8392065173351755]\n",
      " [2 0 16.0 5.0 2.0 0.289146549581059]\n",
      " [2 0 21.0 0.0 0.0 -0.48228516659526804]\n",
      " [0 1 29.69911764705882 0.0 0.0 -0.023356999137504025]\n",
      " [2 1 41.0 2.0 0.0 -0.35535172831293493]\n",
      " [0 0 14.0 1.0 2.0 1.7258767012368426]\n",
      " [0 1 21.0 0.0 1.0 0.8863919323914573]]\n"
     ]
    }
   ],
   "source": [
    "print(X_train)"
   ]
  },
  {
   "cell_type": "markdown",
   "id": "1f8e318a-6b97-4809-b3c0-69140eccfb35",
   "metadata": {
    "jp-MarkdownHeadingCollapsed": true
   },
   "source": [
    "## Heatmap(Corelation)"
   ]
  },
  {
   "cell_type": "code",
   "execution_count": 71,
   "id": "c907da9f-f956-4217-a845-218b67fd0abc",
   "metadata": {},
   "outputs": [],
   "source": [
    "X=pd.DataFrame(X_train,columns=['Pclass','Sex','Age','SibSp','Parch','Fare'])"
   ]
  },
  {
   "cell_type": "code",
   "execution_count": 72,
   "id": "eaba7a43-77c4-4146-ba27-fd0965de0d11",
   "metadata": {},
   "outputs": [
    {
     "data": {
      "text/plain": [
       "<Axes: >"
      ]
     },
     "execution_count": 72,
     "metadata": {},
     "output_type": "execute_result"
    },
    {
     "data": {
      "image/png": "[encoded data removed]",
      "text/plain": [
       "<Figure size 640x480 with 2 Axes>"
      ]
     },
     "metadata": {},
     "output_type": "display_data"
    }
   ],
   "source": [
    "sns.heatmap(X.corr(),annot=True,cmap='crest')"
   ]
  },
  {
   "cell_type": "markdown",
   "id": "ab256dda-f619-47e8-8dd7-e1ea7a631b4b",
   "metadata": {
    "jp-MarkdownHeadingCollapsed": true
   },
   "source": [
    "## SVM"
   ]
  },
  {
   "cell_type": "code",
   "execution_count": 42,
   "id": "a2a2a1dc-2ef5-4616-98b6-9fba9a826749",
   "metadata": {},
   "outputs": [
    {
     "data": {
      "text/html": [
       "<style>#sk-container-id-5 {color: black;}#sk-container-id-5 pre{padding: 0;}#sk-container-id-5 div.sk-toggleable {background-color: white;}#sk-container-id-5 label.sk-toggleable__label {cursor: pointer;display: block;width: 100%;margin-bottom: 0;padding: 0.3em;box-sizing: border-box;text-align: center;}#sk-container-id-5 label.sk-toggleable__label-arrow:before {content: \"▸\";float: left;margin-right: 0.25em;color: #696969;}#sk-container-id-5 label.sk-toggleable__label-arrow:hover:before {color: black;}#sk-container-id-5 div.sk-estimator:hover label.sk-toggleable__label-arrow:before {color: black;}#sk-container-id-5 div.sk-toggleable__content {max-height: 0;max-width: 0;overflow: hidden;text-align: left;background-color: #f0f8ff;}#sk-container-id-5 div.sk-toggleable__content pre {margin: 0.2em;color: black;border-radius: 0.25em;background-color: #f0f8ff;}#sk-container-id-5 input.sk-toggleable__control:checked~div.sk-toggleable__content {max-height: 200px;max-width: 100%;overflow: auto;}#sk-container-id-5 input.sk-toggleable__control:checked~label.sk-toggleable__label-arrow:before {content: \"▾\";}#sk-container-id-5 div.sk-estimator input.sk-toggleable__control:checked~label.sk-toggleable__label {background-color: #d4ebff;}#sk-container-id-5 div.sk-label input.sk-toggleable__control:checked~label.sk-toggleable__label {background-color: #d4ebff;}#sk-container-id-5 input.sk-hidden--visually {border: 0;clip: rect(1px 1px 1px 1px);clip: rect(1px, 1px, 1px, 1px);height: 1px;margin: -1px;overflow: hidden;padding: 0;position: absolute;width: 1px;}#sk-container-id-5 div.sk-estimator {font-family: monospace;background-color: #f0f8ff;border: 1px dotted black;border-radius: 0.25em;box-sizing: border-box;margin-bottom: 0.5em;}#sk-container-id-5 div.sk-estimator:hover {background-color: #d4ebff;}#sk-container-id-5 div.sk-parallel-item::after {content: \"\";width: 100%;border-bottom: 1px solid gray;flex-grow: 1;}#sk-container-id-5 div.sk-label:hover label.sk-toggleable__label {background-color: #d4ebff;}#sk-container-id-5 div.sk-serial::before {content: \"\";position: absolute;border-left: 1px solid gray;box-sizing: border-box;top: 0;bottom: 0;left: 50%;z-index: 0;}#sk-container-id-5 div.sk-serial {display: flex;flex-direction: column;align-items: center;background-color: white;padding-right: 0.2em;padding-left: 0.2em;position: relative;}#sk-container-id-5 div.sk-item {position: relative;z-index: 1;}#sk-container-id-5 div.sk-parallel {display: flex;align-items: stretch;justify-content: center;background-color: white;position: relative;}#sk-container-id-5 div.sk-item::before, #sk-container-id-5 div.sk-parallel-item::before {content: \"\";position: absolute;border-left: 1px solid gray;box-sizing: border-box;top: 0;bottom: 0;left: 50%;z-index: -1;}#sk-container-id-5 div.sk-parallel-item {display: flex;flex-direction: column;z-index: 1;position: relative;background-color: white;}#sk-container-id-5 div.sk-parallel-item:first-child::after {align-self: flex-end;width: 50%;}#sk-container-id-5 div.sk-parallel-item:last-child::after {align-self: flex-start;width: 50%;}#sk-container-id-5 div.sk-parallel-item:only-child::after {width: 0;}#sk-container-id-5 div.sk-dashed-wrapped {border: 1px dashed gray;margin: 0 0.4em 0.5em 0.4em;box-sizing: border-box;padding-bottom: 0.4em;background-color: white;}#sk-container-id-5 div.sk-label label {font-family: monospace;font-weight: bold;display: inline-block;line-height: 1.2em;}#sk-container-id-5 div.sk-label-container {text-align: center;}#sk-container-id-5 div.sk-container {/* jupyter's `normalize.less` sets `[hidden] { display: none; }` but bootstrap.min.css set `[hidden] { display: none !important; }` so we also need the `!important` here to be able to override the default hidden behavior on the sphinx rendered scikit-learn.org. See: https://github.com/scikit-learn/scikit-learn/issues/21755 */display: inline-block !important;position: relative;}#sk-container-id-5 div.sk-text-repr-fallback {display: none;}</style><div id=\"sk-container-id-5\" class=\"sk-top-container\"><div class=\"sk-text-repr-fallback\"><pre>SVC()</pre><b>In a Jupyter environment, please rerun this cell to show the HTML representation or trust the notebook. <br />On GitHub, the HTML representation is unable to render, please try loading this page with nbviewer.org.</b></div><div class=\"sk-container\" hidden><div class=\"sk-item\"><div class=\"sk-estimator sk-toggleable\"><input class=\"sk-toggleable__control sk-hidden--visually\" id=\"sk-estimator-id-5\" type=\"checkbox\" checked><label for=\"sk-estimator-id-5\" class=\"sk-toggleable__label sk-toggleable__label-arrow\">SVC</label><div class=\"sk-toggleable__content\"><pre>SVC()</pre></div></div></div></div></div>"
      ],
      "text/plain": [
       "SVC()"
      ]
     },
     "execution_count": 42,
     "metadata": {},
     "output_type": "execute_result"
    }
   ],
   "source": [
    "from sklearn.svm import SVC\n",
    "classifier=SVC(kernel='rbf')\n",
    "classifier.fit(X_train,y_train)"
   ]
  },
  {
   "cell_type": "code",
   "execution_count": 43,
   "id": "50a0940b-679f-4fac-9168-536efc9793fa",
   "metadata": {},
   "outputs": [],
   "source": [
    "y_pred=classifier.predict(X_train_test)\n",
    "result=classifier.predict(X_test)"
   ]
  },
  {
   "cell_type": "code",
   "execution_count": 44,
   "id": "084307d1-7e6a-4977-b740-54438b5ef0d8",
   "metadata": {},
   "outputs": [],
   "source": [
    "from sklearn.metrics import confusion_matrix,accuracy_score\n",
    "cm=confusion_matrix(y_test,y_pred)\n",
    "acc=accuracy_score(y_test,y_pred)"
   ]
  },
  {
   "cell_type": "code",
   "execution_count": 45,
   "id": "29316cac-c857-471a-857a-5b294c9780d6",
   "metadata": {},
   "outputs": [
    {
     "name": "stdout",
     "output_type": "stream",
     "text": [
      "[[76  2]\n",
      " [50  6]]\n",
      "0.6119402985074627\n"
     ]
    }
   ],
   "source": [
    "print(cm)\n",
    "print(acc)"
   ]
  },
  {
   "cell_type": "markdown",
   "id": "fa207632-938a-4eb8-b794-f29bb8c567ff",
   "metadata": {
    "jp-MarkdownHeadingCollapsed": true
   },
   "source": [
    "## RandomForest\n"
   ]
  },
  {
   "cell_type": "code",
   "execution_count": 73,
   "id": "0bb7611b-904f-4802-ac31-732b36a7d92b",
   "metadata": {},
   "outputs": [
    {
     "data": {
      "text/html": [
       "<style>#sk-container-id-10 {color: black;}#sk-container-id-10 pre{padding: 0;}#sk-container-id-10 div.sk-toggleable {background-color: white;}#sk-container-id-10 label.sk-toggleable__label {cursor: pointer;display: block;width: 100%;margin-bottom: 0;padding: 0.3em;box-sizing: border-box;text-align: center;}#sk-container-id-10 label.sk-toggleable__label-arrow:before {content: \"▸\";float: left;margin-right: 0.25em;color: #696969;}#sk-container-id-10 label.sk-toggleable__label-arrow:hover:before {color: black;}#sk-container-id-10 div.sk-estimator:hover label.sk-toggleable__label-arrow:before {color: black;}#sk-container-id-10 div.sk-toggleable__content {max-height: 0;max-width: 0;overflow: hidden;text-align: left;background-color: #f0f8ff;}#sk-container-id-10 div.sk-toggleable__content pre {margin: 0.2em;color: black;border-radius: 0.25em;background-color: #f0f8ff;}#sk-container-id-10 input.sk-toggleable__control:checked~div.sk-toggleable__content {max-height: 200px;max-width: 100%;overflow: auto;}#sk-container-id-10 input.sk-toggleable__control:checked~label.sk-toggleable__label-arrow:before {content: \"▾\";}#sk-container-id-10 div.sk-estimator input.sk-toggleable__control:checked~label.sk-toggleable__label {background-color: #d4ebff;}#sk-container-id-10 div.sk-label input.sk-toggleable__control:checked~label.sk-toggleable__label {background-color: #d4ebff;}#sk-container-id-10 input.sk-hidden--visually {border: 0;clip: rect(1px 1px 1px 1px);clip: rect(1px, 1px, 1px, 1px);height: 1px;margin: -1px;overflow: hidden;padding: 0;position: absolute;width: 1px;}#sk-container-id-10 div.sk-estimator {font-family: monospace;background-color: #f0f8ff;border: 1px dotted black;border-radius: 0.25em;box-sizing: border-box;margin-bottom: 0.5em;}#sk-container-id-10 div.sk-estimator:hover {background-color: #d4ebff;}#sk-container-id-10 div.sk-parallel-item::after {content: \"\";width: 100%;border-bottom: 1px solid gray;flex-grow: 1;}#sk-container-id-10 div.sk-label:hover label.sk-toggleable__label {background-color: #d4ebff;}#sk-container-id-10 div.sk-serial::before {content: \"\";position: absolute;border-left: 1px solid gray;box-sizing: border-box;top: 0;bottom: 0;left: 50%;z-index: 0;}#sk-container-id-10 div.sk-serial {display: flex;flex-direction: column;align-items: center;background-color: white;padding-right: 0.2em;padding-left: 0.2em;position: relative;}#sk-container-id-10 div.sk-item {position: relative;z-index: 1;}#sk-container-id-10 div.sk-parallel {display: flex;align-items: stretch;justify-content: center;background-color: white;position: relative;}#sk-container-id-10 div.sk-item::before, #sk-container-id-10 div.sk-parallel-item::before {content: \"\";position: absolute;border-left: 1px solid gray;box-sizing: border-box;top: 0;bottom: 0;left: 50%;z-index: -1;}#sk-container-id-10 div.sk-parallel-item {display: flex;flex-direction: column;z-index: 1;position: relative;background-color: white;}#sk-container-id-10 div.sk-parallel-item:first-child::after {align-self: flex-end;width: 50%;}#sk-container-id-10 div.sk-parallel-item:last-child::after {align-self: flex-start;width: 50%;}#sk-container-id-10 div.sk-parallel-item:only-child::after {width: 0;}#sk-container-id-10 div.sk-dashed-wrapped {border: 1px dashed gray;margin: 0 0.4em 0.5em 0.4em;box-sizing: border-box;padding-bottom: 0.4em;background-color: white;}#sk-container-id-10 div.sk-label label {font-family: monospace;font-weight: bold;display: inline-block;line-height: 1.2em;}#sk-container-id-10 div.sk-label-container {text-align: center;}#sk-container-id-10 div.sk-container {/* jupyter's `normalize.less` sets `[hidden] { display: none; }` but bootstrap.min.css set `[hidden] { display: none !important; }` so we also need the `!important` here to be able to override the default hidden behavior on the sphinx rendered scikit-learn.org. See: https://github.com/scikit-learn/scikit-learn/issues/21755 */display: inline-block !important;position: relative;}#sk-container-id-10 div.sk-text-repr-fallback {display: none;}</style><div id=\"sk-container-id-10\" class=\"sk-top-container\"><div class=\"sk-text-repr-fallback\"><pre>RandomForestClassifier(criterion=&#x27;entropy&#x27;)</pre><b>In a Jupyter environment, please rerun this cell to show the HTML representation or trust the notebook. <br />On GitHub, the HTML representation is unable to render, please try loading this page with nbviewer.org.</b></div><div class=\"sk-container\" hidden><div class=\"sk-item\"><div class=\"sk-estimator sk-toggleable\"><input class=\"sk-toggleable__control sk-hidden--visually\" id=\"sk-estimator-id-10\" type=\"checkbox\" checked><label for=\"sk-estimator-id-10\" class=\"sk-toggleable__label sk-toggleable__label-arrow\">RandomForestClassifier</label><div class=\"sk-toggleable__content\"><pre>RandomForestClassifier(criterion=&#x27;entropy&#x27;)</pre></div></div></div></div></div>"
      ],
      "text/plain": [
       "RandomForestClassifier(criterion='entropy')"
      ]
     },
     "execution_count": 73,
     "metadata": {},
     "output_type": "execute_result"
    }
   ],
   "source": [
    "from sklearn.ensemble import RandomForestClassifier\n",
    "classifierforest=RandomForestClassifier(n_estimators=100,criterion='entropy',bootstrap=True,)\n",
    "classifierforest.fit(X_train,y_train)"
   ]
  },
  {
   "cell_type": "code",
   "execution_count": 74,
   "id": "d70dc482-da85-4e92-807a-a47d8f9f2983",
   "metadata": {},
   "outputs": [],
   "source": [
    "result=classifierforest.predict(X_test)\n",
    "y_pred=classifierforest.predict(X_train_test)"
   ]
  },
  {
   "cell_type": "code",
   "execution_count": 75,
   "id": "ace51c82-66ab-490d-bdba-654da26a78ba",
   "metadata": {},
   "outputs": [],
   "source": [
    "cm=confusion_matrix(y_test,y_pred)\n",
    "acc=accuracy_score(y_test,y_pred)"
   ]
  },
  {
   "cell_type": "code",
   "execution_count": 76,
   "id": "a42af095-c111-4572-8bc6-1d0133762cd4",
   "metadata": {},
   "outputs": [
    {
     "name": "stdout",
     "output_type": "stream",
     "text": [
      "[[69  9]\n",
      " [13 43]]\n",
      "0.835820895522388\n"
     ]
    }
   ],
   "source": [
    "print(cm)\n",
    "print(acc)"
   ]
  },
  {
   "cell_type": "markdown",
   "id": "f90902cd-393b-4ea6-82c5-1b661db9652d",
   "metadata": {
    "jp-MarkdownHeadingCollapsed": true
   },
   "source": [
    "## K NN\n"
   ]
  },
  {
   "cell_type": "code",
   "execution_count": 77,
   "id": "646de6fc-994f-47fd-b1d9-1a561da026dd",
   "metadata": {},
   "outputs": [
    {
     "data": {
      "text/html": [
       "<style>#sk-container-id-11 {color: black;}#sk-container-id-11 pre{padding: 0;}#sk-container-id-11 div.sk-toggleable {background-color: white;}#sk-container-id-11 label.sk-toggleable__label {cursor: pointer;display: block;width: 100%;margin-bottom: 0;padding: 0.3em;box-sizing: border-box;text-align: center;}#sk-container-id-11 label.sk-toggleable__label-arrow:before {content: \"▸\";float: left;margin-right: 0.25em;color: #696969;}#sk-container-id-11 label.sk-toggleable__label-arrow:hover:before {color: black;}#sk-container-id-11 div.sk-estimator:hover label.sk-toggleable__label-arrow:before {color: black;}#sk-container-id-11 div.sk-toggleable__content {max-height: 0;max-width: 0;overflow: hidden;text-align: left;background-color: #f0f8ff;}#sk-container-id-11 div.sk-toggleable__content pre {margin: 0.2em;color: black;border-radius: 0.25em;background-color: #f0f8ff;}#sk-container-id-11 input.sk-toggleable__control:checked~div.sk-toggleable__content {max-height: 200px;max-width: 100%;overflow: auto;}#sk-container-id-11 input.sk-toggleable__control:checked~label.sk-toggleable__label-arrow:before {content: \"▾\";}#sk-container-id-11 div.sk-estimator input.sk-toggleable__control:checked~label.sk-toggleable__label {background-color: #d4ebff;}#sk-container-id-11 div.sk-label input.sk-toggleable__control:checked~label.sk-toggleable__label {background-color: #d4ebff;}#sk-container-id-11 input.sk-hidden--visually {border: 0;clip: rect(1px 1px 1px 1px);clip: rect(1px, 1px, 1px, 1px);height: 1px;margin: -1px;overflow: hidden;padding: 0;position: absolute;width: 1px;}#sk-container-id-11 div.sk-estimator {font-family: monospace;background-color: #f0f8ff;border: 1px dotted black;border-radius: 0.25em;box-sizing: border-box;margin-bottom: 0.5em;}#sk-container-id-11 div.sk-estimator:hover {background-color: #d4ebff;}#sk-container-id-11 div.sk-parallel-item::after {content: \"\";width: 100%;border-bottom: 1px solid gray;flex-grow: 1;}#sk-container-id-11 div.sk-label:hover label.sk-toggleable__label {background-color: #d4ebff;}#sk-container-id-11 div.sk-serial::before {content: \"\";position: absolute;border-left: 1px solid gray;box-sizing: border-box;top: 0;bottom: 0;left: 50%;z-index: 0;}#sk-container-id-11 div.sk-serial {display: flex;flex-direction: column;align-items: center;background-color: white;padding-right: 0.2em;padding-left: 0.2em;position: relative;}#sk-container-id-11 div.sk-item {position: relative;z-index: 1;}#sk-container-id-11 div.sk-parallel {display: flex;align-items: stretch;justify-content: center;background-color: white;position: relative;}#sk-container-id-11 div.sk-item::before, #sk-container-id-11 div.sk-parallel-item::before {content: \"\";position: absolute;border-left: 1px solid gray;box-sizing: border-box;top: 0;bottom: 0;left: 50%;z-index: -1;}#sk-container-id-11 div.sk-parallel-item {display: flex;flex-direction: column;z-index: 1;position: relative;background-color: white;}#sk-container-id-11 div.sk-parallel-item:first-child::after {align-self: flex-end;width: 50%;}#sk-container-id-11 div.sk-parallel-item:last-child::after {align-self: flex-start;width: 50%;}#sk-container-id-11 div.sk-parallel-item:only-child::after {width: 0;}#sk-container-id-11 div.sk-dashed-wrapped {border: 1px dashed gray;margin: 0 0.4em 0.5em 0.4em;box-sizing: border-box;padding-bottom: 0.4em;background-color: white;}#sk-container-id-11 div.sk-label label {font-family: monospace;font-weight: bold;display: inline-block;line-height: 1.2em;}#sk-container-id-11 div.sk-label-container {text-align: center;}#sk-container-id-11 div.sk-container {/* jupyter's `normalize.less` sets `[hidden] { display: none; }` but bootstrap.min.css set `[hidden] { display: none !important; }` so we also need the `!important` here to be able to override the default hidden behavior on the sphinx rendered scikit-learn.org. See: https://github.com/scikit-learn/scikit-learn/issues/21755 */display: inline-block !important;position: relative;}#sk-container-id-11 div.sk-text-repr-fallback {display: none;}</style><div id=\"sk-container-id-11\" class=\"sk-top-container\"><div class=\"sk-text-repr-fallback\"><pre>KNeighborsClassifier()</pre><b>In a Jupyter environment, please rerun this cell to show the HTML representation or trust the notebook. <br />On GitHub, the HTML representation is unable to render, please try loading this page with nbviewer.org.</b></div><div class=\"sk-container\" hidden><div class=\"sk-item\"><div class=\"sk-estimator sk-toggleable\"><input class=\"sk-toggleable__control sk-hidden--visually\" id=\"sk-estimator-id-11\" type=\"checkbox\" checked><label for=\"sk-estimator-id-11\" class=\"sk-toggleable__label sk-toggleable__label-arrow\">KNeighborsClassifier</label><div class=\"sk-toggleable__content\"><pre>KNeighborsClassifier()</pre></div></div></div></div></div>"
      ],
      "text/plain": [
       "KNeighborsClassifier()"
      ]
     },
     "execution_count": 77,
     "metadata": {},
     "output_type": "execute_result"
    }
   ],
   "source": [
    "from sklearn.neighbors import KNeighborsClassifier\n",
    "classifierKnn=KNeighborsClassifier(n_neighbors=5)\n",
    "classifierKnn.fit(X_train,y_train)"
   ]
  },
  {
   "cell_type": "code",
   "execution_count": 78,
   "id": "da4ece71-9d35-4b32-9b6c-c3127187e2e7",
   "metadata": {},
   "outputs": [],
   "source": [
    "result=classifierKnn.predict(X_test)\n",
    "y_pred=classifierKnn.predict(X_train_test)\n",
    "\n",
    "cm=confusion_matrix(y_test,y_pred)\n",
    "acc=accuracy_score(y_test,y_pred)"
   ]
  },
  {
   "cell_type": "code",
   "execution_count": 79,
   "id": "cb72d610-03b9-4a6c-bc5b-b57007c48768",
   "metadata": {},
   "outputs": [
    {
     "name": "stdout",
     "output_type": "stream",
     "text": [
      "[[68 10]\n",
      " [17 39]]\n",
      "0.7985074626865671\n"
     ]
    }
   ],
   "source": [
    "print(cm)\n",
    "print(acc)"
   ]
  },
  {
   "cell_type": "markdown",
   "id": "3af3c3e0-7186-4900-b87a-4a1eace6820c",
   "metadata": {},
   "source": [
    "##Logistic Regresion"
   ]
  },
  {
   "cell_type": "code",
   "execution_count": 80,
   "id": "3ac849d8-f6a8-4af7-bc9e-046721069086",
   "metadata": {},
   "outputs": [
    {
     "data": {
      "text/html": [
       "<style>#sk-container-id-12 {color: black;}#sk-container-id-12 pre{padding: 0;}#sk-container-id-12 div.sk-toggleable {background-color: white;}#sk-container-id-12 label.sk-toggleable__label {cursor: pointer;display: block;width: 100%;margin-bottom: 0;padding: 0.3em;box-sizing: border-box;text-align: center;}#sk-container-id-12 label.sk-toggleable__label-arrow:before {content: \"▸\";float: left;margin-right: 0.25em;color: #696969;}#sk-container-id-12 label.sk-toggleable__label-arrow:hover:before {color: black;}#sk-container-id-12 div.sk-estimator:hover label.sk-toggleable__label-arrow:before {color: black;}#sk-container-id-12 div.sk-toggleable__content {max-height: 0;max-width: 0;overflow: hidden;text-align: left;background-color: #f0f8ff;}#sk-container-id-12 div.sk-toggleable__content pre {margin: 0.2em;color: black;border-radius: 0.25em;background-color: #f0f8ff;}#sk-container-id-12 input.sk-toggleable__control:checked~div.sk-toggleable__content {max-height: 200px;max-width: 100%;overflow: auto;}#sk-container-id-12 input.sk-toggleable__control:checked~label.sk-toggleable__label-arrow:before {content: \"▾\";}#sk-container-id-12 div.sk-estimator input.sk-toggleable__control:checked~label.sk-toggleable__label {background-color: #d4ebff;}#sk-container-id-12 div.sk-label input.sk-toggleable__control:checked~label.sk-toggleable__label {background-color: #d4ebff;}#sk-container-id-12 input.sk-hidden--visually {border: 0;clip: rect(1px 1px 1px 1px);clip: rect(1px, 1px, 1px, 1px);height: 1px;margin: -1px;overflow: hidden;padding: 0;position: absolute;width: 1px;}#sk-container-id-12 div.sk-estimator {font-family: monospace;background-color: #f0f8ff;border: 1px dotted black;border-radius: 0.25em;box-sizing: border-box;margin-bottom: 0.5em;}#sk-container-id-12 div.sk-estimator:hover {background-color: #d4ebff;}#sk-container-id-12 div.sk-parallel-item::after {content: \"\";width: 100%;border-bottom: 1px solid gray;flex-grow: 1;}#sk-container-id-12 div.sk-label:hover label.sk-toggleable__label {background-color: #d4ebff;}#sk-container-id-12 div.sk-serial::before {content: \"\";position: absolute;border-left: 1px solid gray;box-sizing: border-box;top: 0;bottom: 0;left: 50%;z-index: 0;}#sk-container-id-12 div.sk-serial {display: flex;flex-direction: column;align-items: center;background-color: white;padding-right: 0.2em;padding-left: 0.2em;position: relative;}#sk-container-id-12 div.sk-item {position: relative;z-index: 1;}#sk-container-id-12 div.sk-parallel {display: flex;align-items: stretch;justify-content: center;background-color: white;position: relative;}#sk-container-id-12 div.sk-item::before, #sk-container-id-12 div.sk-parallel-item::before {content: \"\";position: absolute;border-left: 1px solid gray;box-sizing: border-box;top: 0;bottom: 0;left: 50%;z-index: -1;}#sk-container-id-12 div.sk-parallel-item {display: flex;flex-direction: column;z-index: 1;position: relative;background-color: white;}#sk-container-id-12 div.sk-parallel-item:first-child::after {align-self: flex-end;width: 50%;}#sk-container-id-12 div.sk-parallel-item:last-child::after {align-self: flex-start;width: 50%;}#sk-container-id-12 div.sk-parallel-item:only-child::after {width: 0;}#sk-container-id-12 div.sk-dashed-wrapped {border: 1px dashed gray;margin: 0 0.4em 0.5em 0.4em;box-sizing: border-box;padding-bottom: 0.4em;background-color: white;}#sk-container-id-12 div.sk-label label {font-family: monospace;font-weight: bold;display: inline-block;line-height: 1.2em;}#sk-container-id-12 div.sk-label-container {text-align: center;}#sk-container-id-12 div.sk-container {/* jupyter's `normalize.less` sets `[hidden] { display: none; }` but bootstrap.min.css set `[hidden] { display: none !important; }` so we also need the `!important` here to be able to override the default hidden behavior on the sphinx rendered scikit-learn.org. See: https://github.com/scikit-learn/scikit-learn/issues/21755 */display: inline-block !important;position: relative;}#sk-container-id-12 div.sk-text-repr-fallback {display: none;}</style><div id=\"sk-container-id-12\" class=\"sk-top-container\"><div class=\"sk-text-repr-fallback\"><pre>LogisticRegression(solver=&#x27;liblinear&#x27;)</pre><b>In a Jupyter environment, please rerun this cell to show the HTML representation or trust the notebook. <br />On GitHub, the HTML representation is unable to render, please try loading this page with nbviewer.org.</b></div><div class=\"sk-container\" hidden><div class=\"sk-item\"><div class=\"sk-estimator sk-toggleable\"><input class=\"sk-toggleable__control sk-hidden--visually\" id=\"sk-estimator-id-12\" type=\"checkbox\" checked><label for=\"sk-estimator-id-12\" class=\"sk-toggleable__label sk-toggleable__label-arrow\">LogisticRegression</label><div class=\"sk-toggleable__content\"><pre>LogisticRegression(solver=&#x27;liblinear&#x27;)</pre></div></div></div></div></div>"
      ],
      "text/plain": [
       "LogisticRegression(solver='liblinear')"
      ]
     },
     "execution_count": 80,
     "metadata": {},
     "output_type": "execute_result"
    }
   ],
   "source": [
    "from sklearn.linear_model import LogisticRegression\n",
    "classifier=LogisticRegression(solver='liblinear')\n",
    "classifier.fit(X_train,y_train)"
   ]
  },
  {
   "cell_type": "code",
   "execution_count": 81,
   "id": "065f062d-1186-4dd8-838b-69d5504cf140",
   "metadata": {},
   "outputs": [],
   "source": [
    "y_pred=classifier.predict(X_train_test)\n",
    "result=classifier.predict(X_test)\n",
    "cm=confusion_matrix(y_test,y_pred)\n",
    "acc=accuracy_score(y_test,y_pred)"
   ]
  },
  {
   "cell_type": "code",
   "execution_count": 82,
   "id": "c552566f-bdfb-4490-b735-85e4f1e83e9d",
   "metadata": {},
   "outputs": [
    {
     "name": "stdout",
     "output_type": "stream",
     "text": [
      "[[67 11]\n",
      " [16 40]]\n",
      "0.7985074626865671\n"
     ]
    }
   ],
   "source": [
    "print(cm)\n",
    "print(acc)"
   ]
  },
  {
   "cell_type": "code",
   "execution_count": 83,
   "id": "cdf10861-1646-4b7f-b5f0-57ef8c1b915f",
   "metadata": {},
   "outputs": [
    {
     "name": "stdout",
     "output_type": "stream",
     "text": [
      "None\n"
     ]
    }
   ],
   "source": [
    "print(classifier.class_weight)"
   ]
  },
  {
   "cell_type": "markdown",
   "id": "c498be82-aacf-4134-beb2-4b1258e7ae0f",
   "metadata": {
    "jp-MarkdownHeadingCollapsed": true
   },
   "source": [
    "## Make submition"
   ]
  },
  {
   "cell_type": "code",
   "execution_count": null,
   "id": "f2bf690d-7046-42ce-8ee3-2b62e685fbbc",
   "metadata": {},
   "outputs": [],
   "source": [
    "PassId=dataSetTest['PassengerId'].values"
   ]
  },
  {
   "cell_type": "code",
   "execution_count": null,
   "id": "e0410c74-8c11-4dc3-9f0c-d590854f00cd",
   "metadata": {},
   "outputs": [],
   "source": [
    "kaggle=pd.DataFrame({\n",
    "    \"PassengerId\":PassId,\n",
    "    \"Survived\":result\n",
    "})\n",
    "kaggle.to_csv('/home/royce/Desktop/subnew.csv',index=False)"
   ]
  },
  {
   "cell_type": "code",
   "execution_count": null,
   "id": "c30e5b2b-41ef-476b-95c9-5163ae04ab09",
   "metadata": {},
   "outputs": [],
   "source": []
  }
 ],
 "metadata": {
  "kernelspec": {
   "display_name": "Python 3 (ipykernel)",
   "language": "python",
   "name": "python3"
  },
  "language_info": {
   "codemirror_mode": {
    "name": "ipython",
    "version": 3
   },
   "file_extension": ".py",
   "mimetype": "text/x-python",
   "name": "python",
   "nbconvert_exporter": "python",
   "pygments_lexer": "ipython3",
   "version": "3.8.10"
  }
 },
 "nbformat": 4,
 "nbformat_minor": 5
}
